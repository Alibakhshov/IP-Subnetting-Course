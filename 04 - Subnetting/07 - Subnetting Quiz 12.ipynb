{
 "cells": [
  {
   "cell_type": "markdown",
   "metadata": {},
   "source": [
    "<h4><strong>Check yourself: Quiz 12</strong><h4>\n",
    "\n",
    "<p>All of the questions in this quiz will be based on the following scenario:\n",
    "\n",
    "Please subnet 192.168.80.0 /24 for a company that has 10 hosts per network. Calculate the new subnet mask, the first 4 new subnets, the range of IP addresses for the first 4 new subnets and the number of IP addresses available in all of the new subnets.</p>\n",
    "\n",
    "<h4><strong>Question 1:</strong></h4>\n",
    "\n",
    "<p>Please subnet 192.168.80.0 /24 for a company that has 10 hosts per network. Which of the following is the new subnet mask?</p>\n",
    "\n",
    "<ol>\n",
    "    <li>255.255.255.192</li>\n",
    "    <li>255.255.255.224</li>\n",
    "    <li>255.255.255.240</li>\n",
    "    <li>255.255.255.248</li>\n",
    "</ol>\n",
    "\n",
    "<h4><strong>Question 2:</strong></h4>\n",
    "\n",
    "<p>Please subnet 192.168.80.0 /24 for a company that has 10 hosts per network. Which of the following is the third new subnet?</p>\n",
    "\n",
    "<ol>\n",
    "    <li>192.168.80.8</li>\n",
    "    <li>192.168.80.6</li>\n",
    "    <li>192.168.80.16</li>\n",
    "    <li>192.168.80.32</li>\n",
    "</ol>\n",
    "\n",
    "<h4><strong>Question 3:</strong></h4>\n",
    "\n",
    "<p>Please subnet 192.168.80.0 /24 for a company that has 10 hosts per network. Which of the following is the range of IP addresses for the third new subnet?</p>\n",
    "\n",
    "<ol>\n",
    "    <li>192.168.80.8 - 192.168.80.14</li>\n",
    "    <li>192.168.80.17 - 192.168.80.30</li>\n",
    "    <li>192.168.80.25 - 192.168.80.30</li>\n",
    "    <li>192.168.80.33 - 192.168.80.46</li>\n",
    "</ol>\n",
    "\n",
    "<h4><strong>Question 4:</strong></h4>\n",
    "\n",
    "<p>Please subnet 192.168.80.0 /24 for a company that has 10 hosts per network. How many IP addresses are available in each new subnet?</p>\n",
    "\n",
    "<ol>\n",
    "    <li></li>\n",
    "    <li></li>\n",
    "    <li></li>\n",
    "    <li></li>\n",
    "</ol>\n",
    "\n",
    "<a href=\"../Answers.ipynb\"><h4><b>Answers</b></h4></a>"
   ]
  },
  {
   "cell_type": "markdown",
   "metadata": {},
   "source": []
  }
 ],
 "metadata": {
  "kernelspec": {
   "display_name": "Python 3.10.4 64-bit",
   "language": "python",
   "name": "python3"
  },
  "language_info": {
   "name": "python",
   "version": "3.10.4"
  },
  "orig_nbformat": 4,
  "vscode": {
   "interpreter": {
    "hash": "9045ac875e47dcb748cbb8727819668cc40d80514c47a81983c55e51fb514e38"
   }
  }
 },
 "nbformat": 4,
 "nbformat_minor": 2
}
