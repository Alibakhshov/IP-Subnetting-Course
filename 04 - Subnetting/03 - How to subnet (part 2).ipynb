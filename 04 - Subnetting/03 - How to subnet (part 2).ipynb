{
 "cells": [
  {
   "cell_type": "markdown",
   "metadata": {},
   "source": [
    "<h3><strong><a  href=\"https://www.udemy.com/course/ip-subnetting/learn/lecture/6308466#overview\">How to subnet? (Part 2)</a></strong></h3>"
   ]
  },
  {
   "cell_type": "markdown",
   "metadata": {},
   "source": [
    "<p>The two bits(the subnet bits) that we took, they determine the new network IDs.\n",
    "\n",
    "\n",
    "\n",
    "<img src=\"../images/33.png\">\n",
    "\n",
    "So therefore we could generalize this into a Formula:\n",
    "\n",
    "<img src=\"../images/34.png\">\n",
    "\n",
    "This will determine how many different subnets we get. Suppose we took another bit. Suppose instead of taking Two-Bits we took three. How many subnets would we get. Well its two to the power of three which is eight subnets. To take that extra bit I would need a prefix of slash 19 therefore the number of IP addresses I would have is two to the power 30 to minus 19 minus two.</p>\n",
    "\n",
    "\n",
    "<img src=\"../images/34.png\">"
   ]
  },
  {
   "cell_type": "markdown",
   "metadata": {},
   "source": []
  },
  {
   "cell_type": "markdown",
   "metadata": {},
   "source": []
  }
 ],
 "metadata": {
  "kernelspec": {
   "display_name": "Python 3.10.4 64-bit",
   "language": "python",
   "name": "python3"
  },
  "language_info": {
   "name": "python",
   "version": "3.10.4"
  },
  "orig_nbformat": 4,
  "vscode": {
   "interpreter": {
    "hash": "9045ac875e47dcb748cbb8727819668cc40d80514c47a81983c55e51fb514e38"
   }
  }
 },
 "nbformat": 4,
 "nbformat_minor": 2
}
