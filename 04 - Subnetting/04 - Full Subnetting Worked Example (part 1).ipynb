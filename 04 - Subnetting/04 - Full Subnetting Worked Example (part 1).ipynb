{
 "cells": [
  {
   "cell_type": "markdown",
   "metadata": {},
   "source": [
    "<h3><strong><a  href=\"https://www.udemy.com/course/ip-subnetting/learn/lecture/6308470#overview\">Full Subnetting Worked Example (part 1)</a></strong></h3>"
   ]
  },
  {
   "cell_type": "markdown",
   "metadata": {},
   "source": [
    "<p>In this example we have <b>172.20.00000000.00000000/16</b>. Its class B so therefore the default prefix is /16. The first two octets are network ID the last two octets are host ID. I'd like to subnet this so that we get 6000 IP addresses per subnet.\n",
    "\n",
    "<b>NOTE:</b>Subsetting is where you take bits from host ID and you're making it part of network ID. The bits that you took are called <b>subnet bits.</b> They determine the number of subnets you get and the bits that are left over. Bits that left over for a host ID, those determines the number of IP addresses you get per subnet.\n",
    "\n",
    "So here we want to subnet this to get 6000 IP addresses per subnet.\n",
    "\n",
    "The way I'll tackle this problem is I'll actually start off by asking the following question. How many bits should I leave for host ID to get 6000 IP addresses? If I can figure that out then what will happen is I'll leave those bits for a host ID and the bits in front of it are the ones I'll take for network ID. Those bits will become the subnet bits. Let's recall the formula 2 to the power of H minus 2 where each is the number of host ID bits.\n",
    "\n",
    "<img src=\"../images/36.png\">\n",
    "\n",
    "This will determine how many IP addresses I get with a host bits. So the formula I'm trying to solve here if I were to turn this into an algebra equation is: \n",
    "\n",
    "<img src=\"../images/37.png\">\n",
    "\n",
    "so h here is 13.\n",
    "\n",
    "<img src=\"../images/38.png\">\n",
    "\n",
    "We need to leave the last 13 bits for host ID.(as in the picture below)\n",
    "\n",
    "<img src=\"../images/39.png\">\n",
    "\n",
    "So therefore what we can take for network ID are these three bits in front of it.\n",
    "\n",
    "We need a new prefix of slash 19.\n",
    "\n",
    "We will therefore get two to the power of three subnets. Two to the power of three is eight subnets.\n",
    "\n",
    "And two to the power of thirty two minus 19 which is 13 minus 2 will give us eight thousand one hundred and ninety IP addresses.\n",
    "\n",
    "<img src=\"../images/39.png\">\n",
    "\n",
    "So we started off by asking ourselves this question how many bits should I leave for host ID to get 6000 IP addresses. And here we have calculated that we need to leave 13 bits. Therefore means we take three bits for network ID and the way we do that is with our new prefix of /19. Calculating this prefix is the first thing that you do when subsetting a network ID. If you calculate this prefix incorrectly then every single thing that we do thereafter will be wrong.</p>"
   ]
  }
 ],
 "metadata": {
  "language_info": {
   "name": "python"
  },
  "orig_nbformat": 4
 },
 "nbformat": 4,
 "nbformat_minor": 2
}
