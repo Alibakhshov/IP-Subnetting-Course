{
 "cells": [
  {
   "cell_type": "markdown",
   "metadata": {},
   "source": [
    "<h4><strong>Check yourself: Quiz 11</strong><h4>\n",
    "<h4><strong>Question 1:</strong></h4>\n",
    "\n",
    "<p>Which of the following is the range of values for the first octet for Class A?</p>\n",
    "\n",
    "<ol>\n",
    "    <li>1 - 125</li>\n",
    "    <li>1 - 128</li>\n",
    "    <li>1 - 126</li>\n",
    "    <li>1 - 129</li>\n",
    "</ol>\n",
    "\n",
    "<h4><strong>Question 2:</strong></h4>\n",
    "\n",
    "<p>Which of the following defines the Class A IP addresses range?</p>\n",
    "\n",
    "<ol>\n",
    "    <li> In binary the first 4 bits of the first octet must be 1111</li>\n",
    "    <li> In binary the first 2 bits of the first octet must be 10</li>\n",
    "    <li> In binary the first bit of the first octet must be a 0</li>\n",
    "    <li> In binary the first 3 bits of the first octet must be 110</li>\n",
    "</ol>\n",
    "\n",
    "<h4><strong>Question 3:</strong></h4>\n",
    "\n",
    "<p>Which of the following is the default subnet mask for Class A?</p>\n",
    "\n",
    "<ol>\n",
    "    <li>255.255.0.0</li>\n",
    "    <li>255.255.255.0</li>\n",
    "    <li>255.0.0.0</li>\n",
    "    <li>255.255.255.255</li>\n",
    "</ol>\n",
    "\n",
    "<a href=\"../Answers.ipynb\"><h4><b>Answers</b></h4></a>"
   ]
  },
  {
   "cell_type": "markdown",
   "metadata": {},
   "source": []
  },
  {
   "cell_type": "markdown",
   "metadata": {},
   "source": []
  }
 ],
 "metadata": {
  "kernelspec": {
   "display_name": "Python 3.10.4 64-bit",
   "language": "python",
   "name": "python3"
  },
  "language_info": {
   "name": "python",
   "version": "3.10.4"
  },
  "orig_nbformat": 4,
  "vscode": {
   "interpreter": {
    "hash": "9045ac875e47dcb748cbb8727819668cc40d80514c47a81983c55e51fb514e38"
   }
  }
 },
 "nbformat": 4,
 "nbformat_minor": 2
}
