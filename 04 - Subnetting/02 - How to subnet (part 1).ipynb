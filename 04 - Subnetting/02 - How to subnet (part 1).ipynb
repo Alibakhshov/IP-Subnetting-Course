{
 "cells": [
  {
   "cell_type": "markdown",
   "metadata": {},
   "source": [
    "<h3><strong><a  href=\"https://www.udemy.com/course/ip-subnetting/learn/lecture/6308466#overview\">How to subnet?</a></strong></h3>"
   ]
  },
  {
   "cell_type": "markdown",
   "metadata": {},
   "source": [
    "<p>Subneting is all about taking bits from host ID and making it part of network ID. The bits that were taken will give you your new subnets. We have an IP address of <b>172.16.00000000.00000000</b>. This is class B. So the default prefix is slash 16. The first two octets are therefore network ID. The remaining two octets are host ID. I wrote out the host ID section in binary. When we subnet we're taking bits from host ID like these two bits for example and we're making it part of network ID.\n",
    "\n",
    "The way you do this is with a new prefix.\n",
    "\n",
    "So in this case I'm using a new prefix of slashy Tiede slash 16 was the original prefix that covered\n",
    "\n",
    "the first two octets.\n",
    "\n",
    "I want to cover the original octets as well as these two bits.\n",
    "\n",
    "So I want to cover 16 17 18 so my new prefix is slashy tee'd by taking these two bits and making it\n",
    "\n",
    "part of network ID the different combinations of these bits will then determine my subnets as a result.\n",
    "\n",
    "These two bits or the bits that you take are referred to as sub Nesbitt's\n",
    "\n",
    "the bits that are left over are of course your host ID bits\n",
    "\n",
    "and that will determine how many IP addresses you get per subnet.\n",
    "\n",
    "So what are my new subnets if I'm taking two bits from host Id make it part of network ID with a prefix\n",
    "\n",
    "of slash a team my new subnets would be as follows.\n",
    "\n",
    "One 72 dots 16 dot and all right.\n",
    "\n",
    "The next two bits in a different color.\n",
    "\n",
    "These are my subnet.\n",
    "\n",
    "It's the first combination of those two bits would be 0 0 and then the rest would be host ID.\n",
    "\n",
    "And there you go.\n",
    "\n",
    "My next network ID would be 172 dot 16 dot\n",
    "\n",
    "0 1 and the remaining bits would be host ID.\n",
    "\n",
    "And then we have 172 dot 16 dot 1 0 and the remaining bits are host ID.\n",
    "\n",
    "And then lastly we have 72 dot 16 dot and those two bits would be 1 1 and then we have host ID\n",
    "\n",
    "and there you have it.\n",
    "\n",
    "Those are my four network IDs.\n",
    "\n",
    "Each network ID is determined by a different combination of the subnet bits to write this out.\n",
    "\n",
    "Clearly monu subnets are 172 dot 16 dot 0 0 slash 18.\n",
    "\n",
    "This is this first combination here where the two subnet bits are 00.\n",
    "\n",
    "The next one has the two subnet bits as 0 1 column value of the 1 is 64.\n",
    "\n",
    "So the next subnet is 172 16 dot 64 dot 0 slash 80.\n",
    "\n",
    "The next combination is 1 0.\n",
    "\n",
    "The column value of this one is 128\n",
    "\n",
    "so 172 dot 16 dot 128 dot zero slash 18 is my next subnet.\n",
    "\n",
    "And the last one has these two bits is 1 1 this is 128 plus 64.\n",
    "\n",
    "Therefore the last subnet is 172 not 16.\n",
    "\n",
    "Got one ninety to 128 plus 64 is 192 dot 0.\n",
    "\n",
    "Slashy.\n",
    "\n",
    "And there you have it.\n",
    "\n",
    "Those are all four subnets.\n",
    "\n",
    "If we were to take two bits from the host ID and make it part of network ID with a prefix of slashy\n",
    "\n",
    "team.\n",
    "\n",
    "</p>"
   ]
  },
  {
   "cell_type": "markdown",
   "metadata": {},
   "source": []
  },
  {
   "cell_type": "markdown",
   "metadata": {},
   "source": []
  }
 ],
 "metadata": {
  "kernelspec": {
   "display_name": "Python 3.10.4 64-bit",
   "language": "python",
   "name": "python3"
  },
  "language_info": {
   "name": "python",
   "version": "3.10.4"
  },
  "orig_nbformat": 4,
  "vscode": {
   "interpreter": {
    "hash": "9045ac875e47dcb748cbb8727819668cc40d80514c47a81983c55e51fb514e38"
   }
  }
 },
 "nbformat": 4,
 "nbformat_minor": 2
}
