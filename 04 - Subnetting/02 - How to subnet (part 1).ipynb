{
 "cells": [
  {
   "cell_type": "markdown",
   "metadata": {},
   "source": [
    "<h3><strong><a  href=\"https://www.udemy.com/course/ip-subnetting/learn/lecture/6308466#overview\">How to subnet? (Part 1)</a></strong></h3>"
   ]
  },
  {
   "cell_type": "markdown",
   "metadata": {},
   "source": [
    "<p>Subneting is all about taking bits from host ID and making it part of network ID. The bits that were taken will give you your new subnets. We have an IP address of <b>172.16.00000000.00000000</b>. This is class B. So the default prefix is slash 16. The first two octets are therefore network ID. The remaining two octets are host ID. I wrote out the host ID section in binary. When we subnet we're taking bits from host ID like these two bits for example and we're making it part of network ID. The way you do this is with a new prefix. So in this case I'm using a new prefix of /18, /16 was the original prefix that covered the first two octets. I want to cover the original octets as well as these two bits. So I want to cover 16 17 18 so my new prefix is /18 by taking two bits (two zeros) and making it part of network ID. The different combinations of these bits will then determine my subnets as a result. These two bits (two zeros) or the bits that you take are referred to as subnet bits. The bits that are left over are of course your host ID bits and that will determine how many IP addresses you get per subnet. So what are my new subnets if I'm taking two bits from host ID and make it part of network ID with a prefix\n",
    "\n",
    "of /18. The new subnet will be:\n",
    "\n",
    "<b>172.16.00000000.00000000</b> \n",
    "\n",
    "The next two bits in a different color. It's the first combination of those two bits would be 00 and then the rest zeros (in green) would be host ID. My next network ID would be <b>172.16.01000000.00000000</b>. Then, we have <b>172.16.10000000.00000000</b>. Lastly we have <b>172.16.11000000.00000000</b>. Above are my four network IDs. Each network ID is determined by a different combination of the subnet bits.\n",
    "\n",
    "To write this out clearly my new subnets are:\n",
    "\n",
    "<b>172.16.0.0/18</b> => <b>172.16.00000000.00000000</b> \n",
    "\n",
    "decimal form         =>        binary form\n",
    "\n",
    "<b>172.16.64.0/18</b> => <b>172.16.01000000.00000000</b> \n",
    "\n",
    "decimal form           =>        binary form\n",
    "\n",
    "<b>172.16.128.0/18</b> => <b>172.16.10000000.00000000</b> \n",
    "\n",
    "decimal form           =>        binary form\n",
    "\n",
    "<b>172.16.192.0/18</b> => <b>172.16.11000000.00000000</b> \n",
    "\n",
    "decimal form           =>        binary form\n",
    "\n",
    "Above are all four subnets.</p>\n",
    "\n",
    "<img src=\"../images/32.png\">"
   ]
  },
  {
   "cell_type": "markdown",
   "metadata": {},
   "source": []
  },
  {
   "cell_type": "markdown",
   "metadata": {},
   "source": []
  }
 ],
 "metadata": {
  "kernelspec": {
   "display_name": "Python 3.10.4 64-bit",
   "language": "python",
   "name": "python3"
  },
  "language_info": {
   "name": "python",
   "version": "3.10.4"
  },
  "orig_nbformat": 4,
  "vscode": {
   "interpreter": {
    "hash": "9045ac875e47dcb748cbb8727819668cc40d80514c47a81983c55e51fb514e38"
   }
  }
 },
 "nbformat": 4,
 "nbformat_minor": 2
}
