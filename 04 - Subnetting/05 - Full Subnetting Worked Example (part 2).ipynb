{
 "cells": [
  {
   "cell_type": "markdown",
   "metadata": {},
   "source": [
    "<h3><strong><a  href=\"https://www.udemy.com/course/ip-subnetting/learn/lecture/6327532#overview\">Full Subnetting Worked Example (part 2)</a></strong></h3>\n"
   ]
  },
  {
   "cell_type": "markdown",
   "metadata": {},
   "source": [
    "<p>In this example, we have <b>192.168.40.00000000</b>. It's Class C so the default prefix is /24. And I would like to submit this to get 25 IPs addresses per subnet. The first step in doing this is to work out the new prefix the prefix value would tell us how many bits we should take from host ID and make part of network ID. In other words the new prefix will tell us what our subnet bits are.\n",
    "\n",
    "<b>How do I work out the new prefix?</b>\n",
    "\n",
    "Well if I want 25 IP addresses per subnet then what I want is in this formula 2 to the power of H minus 2. This has to be greater than or equal to 25.\n",
    "\n",
    "<img src=\"../images/44.png\">\n",
    "\n",
    "So again I'm going to do this by simply working out different values for H.\n",
    "\n",
    "\n",
    "<img src=\"../images/45.png\">\n",
    "\n",
    "The value of h is 5. Therefore we need to leave five host ID bits. And the one that are in red we leave for network ID. How do I take those bits will I need a new prefix that would cover them? /24 covers the first three octet, therefore slashed 27 will be the new prefix length.\n",
    "\n",
    "<img src=\"../images/46.png\">\n",
    "\n",
    "So let me just quickly recap what I did the first thing we have to do here is figure out on new prefix\n",
    "\n",
    "we need to figure out how many bits to take from host ID and make part of network ID.\n",
    "\n",
    "I'm doing that by calculating how many bits I need to leave for host ID to get 25 IP addresses per subnet.\n",
    "\n",
    "The formula for the number of IPs is two to the power of H minus two.\n",
    "\n",
    "We want that to be greater than or equal to 25.\n",
    "\n",
    "Instead of doing algebra I'll just do trial and error.\n",
    "\n",
    "When aitches 8 I get 254 IPs.\n",
    "\n",
    "If H was 7 I would get half of that.\n",
    "\n",
    "When 6 I get half of that which is 62 and when H's five I get half of that which is roughly 30 if H\n",
    "\n",
    "were four I would get half of 30 which is about 15 which is too little because I need at least 25 IPs\n",
    "\n",
    "so therefore H is five is my number.\n",
    "\n",
    "If H were 5 then that means I'm taking the three bits in front of it for network ID.\n",
    "\n",
    "The way we take these bits is with a prefix of 27 the original prefix was 24 24 plus these three bits\n",
    "\n",
    "is 27.</p>"
   ]
  },
  {
   "cell_type": "markdown",
   "metadata": {},
   "source": []
  },
  {
   "cell_type": "markdown",
   "metadata": {},
   "source": []
  }
 ],
 "metadata": {
  "kernelspec": {
   "display_name": "Python 3.10.4 64-bit",
   "language": "python",
   "name": "python3"
  },
  "language_info": {
   "name": "python",
   "version": "3.10.4"
  },
  "orig_nbformat": 4,
  "vscode": {
   "interpreter": {
    "hash": "9045ac875e47dcb748cbb8727819668cc40d80514c47a81983c55e51fb514e38"
   }
  }
 },
 "nbformat": 4,
 "nbformat_minor": 2
}
