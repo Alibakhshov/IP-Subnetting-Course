{
 "cells": [
  {
   "cell_type": "markdown",
   "metadata": {},
   "source": [
    "<h3><strong><a  href=\"https://www.udemy.com/course/ip-subnetting/learn/lecture/6327532#overview\">Full Subnetting Worked Example (part 2)</a></strong></h3>\n"
   ]
  },
  {
   "cell_type": "markdown",
   "metadata": {},
   "source": [
    "<p>In this example, we have <b>192.168.40.00000000</b>. It's Class C so the default prefix is /24. And I would like to submit this to get 25 IPs addresses per subnet. The first step in doing this is to work out the new prefix the prefix value would tell us how many bits we should take from host ID and make part of network ID. In other words the new prefix will tell us what our subnet bits are.\n",
    "\n",
    "<b>How do I work out the new prefix?</b>\n",
    "\n",
    "Well if I want 25 IP addresses per subnet then what I want is in this formula 2 to the power of H minus 2. This has to be greater than or equal to 25.\n",
    "\n",
    "<img src=\"../images/44.png\">\n",
    "\n",
    "So again I'm going to do this by simply working out different values for H.\n",
    "\n",
    "\n",
    "<img src=\"../images/45.png\">\n",
    "\n",
    "The value of h is 5. Therefore we need to leave five host ID bits. And the one that are in red we leave for network ID. How do I take those bits will I need a new prefix that would cover them? /24 covers the first three octet, therefore slashed 27 will be the new prefix length.\n",
    "\n",
    "<img src=\"../images/46.png\">"
   ]
  },
  {
   "cell_type": "markdown",
   "metadata": {},
   "source": [
    "<p>With 27 as our new prefix we took these three bits (in red) from host ID and we made it part of network ID. How\n",
    "many subnets will be therefore get. Well to calculate the number of subnets, we take two to the power of the number of subnet bits. In this case that is two to the power of three which is equal to eight. We therefore will get eight subnets each of which giving us two to the power of 30 minus 27 which works out to 30 IPs.\n",
    "\n",
    "<img src=\"../images/47.png\">\n",
    "\n",
    "So we will get eight subnets each of which giving 30 IP addresses. To quickly calculate these subnets we need to work out the increment value.\n",
    "\n",
    "We took these three bits (in red) and we gave them to the network ID. That is why we wiil look among those three bits the lowest value(increment value). In our case we see that the increment value is 32.\n",
    "\n",
    "<img src=\"../images/48.png\">\n",
    "\n",
    "In order to work out our network IDs we write out the original network ID that is:\n",
    "\n",
    "<b>192.168.40.0/27</b>\n",
    "\n",
    "The next network ID would be:\n",
    "\n",
    "<b>192.168.40.32/27</b>\n",
    "\n",
    "Now we took the subnet bits from the fourth octet therefore we increment the fourth octet by 32. So this is plus 32\n",
    "\n",
    "<b>192.168.40.64/27</b>\n",
    "\n",
    "This way it adds 32 to the fourth octet.\n",
    "\n",
    "<img src=\"../images/49.png\">\n",
    "\n",
    "So these are our 8 network IDs.</p>\n",
    "\n",
    "<img src=\"../images/50.png\"></p>\n",
    "\n",
    "<img src=\"../images/51.png\"></p>\n"
   ]
  }
 ],
 "metadata": {
  "kernelspec": {
   "display_name": "Python 3.10.4 64-bit",
   "language": "python",
   "name": "python3"
  },
  "language_info": {
   "name": "python",
   "version": "3.10.4"
  },
  "orig_nbformat": 4,
  "vscode": {
   "interpreter": {
    "hash": "9045ac875e47dcb748cbb8727819668cc40d80514c47a81983c55e51fb514e38"
   }
  }
 },
 "nbformat": 4,
 "nbformat_minor": 2
}
