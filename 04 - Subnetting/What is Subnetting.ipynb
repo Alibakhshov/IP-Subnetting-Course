{
 "cells": [
  {
   "cell_type": "markdown",
   "metadata": {},
   "source": [
    "<h3><strong><a  href=\"https://www.udemy.com/course/ip-subnetting/learn/lecture/6308464#overview\">What is Subnetting</a></strong></h3>"
   ]
  },
  {
   "cell_type": "markdown",
   "metadata": {},
   "source": [
    "<p>In this section we will discuss what is subnetwork.\n",
    "\n",
    "In the picture below we have the network ID of <b>172.16.0.0/16</b> and the prefix length this <b>/16</b> therefore the first two octets <b>172.16</b> are network ID. That works out to the range <b>172.16.0.0</b> all the way to <b>172.16.255.255</b>. Now you already know that these two IP addresses are not valid IP addresses they are in fact the <b>network ID</b> and the <b>direct to broadcast IPs</b>. The valid IP addresses are in between the two of them. They tell us where the edges of the entire range of IP addresses lie including these two IPs within this range we have 65536 IPs.\n",
    "\n",
    "If I were assigned this network ID to a network in mind varment therefore I'm assigning sixty five thousand\n",
    "\n",
    "five hundred thirty six IPs if I minus the network ID and directed broadcast it would be 34 IPs to my\n",
    "\n",
    "network.\n",
    "\n",
    "Do I have use for all of those IP addresses unless I have an incredibly large network.\n",
    "\n",
    "Probably not.\n",
    "\n",
    "So this is where a sub netting comes into play some netting allows me to take this range with 65000\n",
    "\n",
    "IPs and break it up into smaller ranges.\n",
    "\n",
    "I could split it in half in which case I would end up with two subnets each of which giving me half\n",
    "\n",
    "as many IPs or I could split it into quarters if I were to split it into quarters then I will get four\n",
    "\n",
    "network IDs each of which giving me one fourth or one quarter of the number of 5 addresses in the entire\n",
    "\n",
    "range or I could split it into eights in which case I get 8 network IDs or 8 subnets each of which giving\n",
    "\n",
    "me one eighth of the original range which was 65000 plus IP addresses.\n",
    "\n",
    "I could split this even smaller.\n",
    "\n",
    "I could split it into sixteenths or into 32 pieces or into 64 pieces.\n",
    "\n",
    "How you split it will be discussed later and how many pieces you can get will also be discussed later.\n",
    "\n",
    "But the bottom line here is that sub netting is taking or arrange your IP addresses and breaking it\n",
    "\n",
    "into smaller ranges of IP addresses so you can be more efficient in your allocation of IP addresses.</p>"
   ]
  },
  {
   "cell_type": "markdown",
   "metadata": {},
   "source": []
  },
  {
   "cell_type": "markdown",
   "metadata": {},
   "source": []
  },
  {
   "cell_type": "markdown",
   "metadata": {},
   "source": []
  },
  {
   "cell_type": "markdown",
   "metadata": {},
   "source": []
  },
  {
   "cell_type": "markdown",
   "metadata": {},
   "source": []
  }
 ],
 "metadata": {
  "kernelspec": {
   "display_name": "Python 3.10.4 64-bit",
   "language": "python",
   "name": "python3"
  },
  "language_info": {
   "name": "python",
   "version": "3.10.4"
  },
  "orig_nbformat": 4,
  "vscode": {
   "interpreter": {
    "hash": "9045ac875e47dcb748cbb8727819668cc40d80514c47a81983c55e51fb514e38"
   }
  }
 },
 "nbformat": 4,
 "nbformat_minor": 2
}
