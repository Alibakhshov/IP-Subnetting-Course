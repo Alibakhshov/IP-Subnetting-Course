{
 "cells": [
  {
   "cell_type": "markdown",
   "metadata": {},
   "source": [
    "<h3><strong>Converting from Binary to Decimal: Quiz 1</strong></h3>\n",
    "\n",
    "<p><b>Question 1:</b> 3) 195</p>\n",
    "<p><b>Question 2:</b> 1) 255</p>\n",
    "<p><b>Question 3:</b> 3) 199</p>"
   ]
  },
  {
   "cell_type": "markdown",
   "metadata": {},
   "source": [
    "<h3><strong>Converting from decimal to Binary: Quiz 2</strong></h3>\n",
    "\n",
    "<p><b>Question 1:</b> 3) 11100000</p>\n",
    "<p><b>Question 2:</b> 2) 11000000 </p>\n",
    "<p><b>Question 3:</b> 4) 11110000 </p>\n"
   ]
  },
  {
   "cell_type": "markdown",
   "metadata": {},
   "source": [
    "<h3><strong>IPv4 Address Structure: Quiz 3</strong></h3>\n",
    "\n",
    "<p><b>Question 1:</b> 1) Network ID: 10  and Host ID: 25.36.9</p>\n",
    "<p><b>Question 2:</b> 3) Network ID: 150.50.9  and Host ID: 6</p>\n",
    "<p><b>Question 3:</b> 3) Network ID: 200.33.66  and Host ID: 99</p>\n",
    "\n",
    "<h3><strong>IPv4 Address Structure: Quiz 4</strong></h3>\n",
    "\n",
    "<p><b>Question 1:</b> 3) Network ID: 10.32  and Host ID: 18.55.6</p>\n",
    "<p><b>Question 2:</b> 2) Network ID: 172.16.192  and Host ID: 9.19</p>\n",
    "<p><b>Question 3:</b> 1) Network ID: 192.168.5.4  and Host ID: 1</p>"
   ]
  },
  {
   "cell_type": "markdown",
   "metadata": {},
   "source": [
    "<h3><strong>CIDR notation: Quiz 5</strong></h3>\n",
    "\n",
    "<p><b>Question 1:</b> 1) Network ID: 172.16.96  and Host ID: 14.9 </p>\n",
    "<p><b>Question 2:</b> 2) Network ID: 10.5  and Host ID: 6.9</p>\n",
    "<p><b>Question 3:</b> 3) Network ID: 192.168.201.192  and Host ID: 9</p>"
   ]
  },
  {
   "cell_type": "markdown",
   "metadata": {},
   "source": [
    "<h3><strong>Converting a Subnet Mask to Prefix Length Quiz: Quiz 6</strong></h3>\n",
    "\n",
    "<p><b>Question 1:</b> 1) /16 </p>\n",
    "<p><b>Question 2:</b> 4) /19</p>\n",
    "<p><b>Question 3:</b> 2) /20</p>\n",
    "<p><b>Question 4:</b> 2) /17</p>\n",
    "<p><b>Question 5:</b> 3) /21</p>"
   ]
  },
  {
   "cell_type": "markdown",
   "metadata": {},
   "source": [
    "<h3><strong>Converting Prefix Length to a Subnet Mask: Quiz 7</strong></h3>\n",
    "\n",
    "<p><b>Question 1:</b> 1) 255.255.255.0 </p>\n",
    "<p><b>Question 2:</b> 5) 255.255.255.240</p>\n",
    "<p><b>Question 3:</b> 3) 255.255.255.192</p>\n"
   ]
  },
  {
   "cell_type": "markdown",
   "metadata": {},
   "source": [
    "<h3><strong>Calculating the Number of IPs per Network ID Quiz: Quiz 8</strong></h3>\n",
    "\n",
    "<p><b>Question 1:</b> 2) 254 </p>\n",
    "<p><b>Question 2:</b> 3) 16,777,214</p>\n",
    "<p><b>Question 3:</b> 1) 2,097,150</p>"
   ]
  },
  {
   "cell_type": "markdown",
   "metadata": {},
   "source": [
    "<h3><strong>IP Address classes: Quiz 9</strong></h3>\n",
    "\n",
    "<p><b>Question 1:</b> 3) 1 - 126</p>\n",
    "<p><b>Question 2:</b> 3) In binary the first bit of the first octet must be a 0</p>\n",
    "<p><b>Question 3:</b> 3) 255.0.0.0</p>"
   ]
  },
  {
   "cell_type": "markdown",
   "metadata": {},
   "source": [
    "<h3><strong>Private vs Public IPv4 addresses: Quiz 10</strong></h3>\n",
    "\n",
    "<p><b>Question 1:</b> 2) 172.16.0.0 - 172.31.255.255</p>\n",
    "<p><b>Question 2:</b> 3) 10.0.0.0 - 10.255.255.255</p>\n",
    "<p><b>Question 3:</b></p>"
   ]
  },
  {
   "cell_type": "markdown",
   "metadata": {},
   "source": [
    "<h3><strong>Subnetting: Quiz 11</strong></h3>\n",
    "\n",
    "<p><b>Question 1:</b> 3) /20</p>\n",
    "<p><b>Question 2:</b> 2) 172.20.16.0</p>\n",
    "<p><b>Question 3:</b> 3) 172.20.16.1 - 172.20.31.254</p>\n",
    "<p><b>Question 3:</b> 2) 4094</p>"
   ]
  }
 ],
 "metadata": {
  "kernelspec": {
   "display_name": "Python 3.10.4 64-bit",
   "language": "python",
   "name": "python3"
  },
  "language_info": {
   "name": "python",
   "version": "3.10.4"
  },
  "orig_nbformat": 4,
  "vscode": {
   "interpreter": {
    "hash": "9045ac875e47dcb748cbb8727819668cc40d80514c47a81983c55e51fb514e38"
   }
  }
 },
 "nbformat": 4,
 "nbformat_minor": 2
}
