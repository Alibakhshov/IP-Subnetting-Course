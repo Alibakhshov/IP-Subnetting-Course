{
 "cells": [
  {
   "cell_type": "markdown",
   "metadata": {},
   "source": [
    "<h3><strong><a  href=\"https://www.udemy.com/course/ip-subnetting/learn/lecture/6294988#notes\">Converting Prefix Length to a Subnet Mask </a></strong></h3>"
   ]
  },
  {
   "cell_type": "markdown",
   "metadata": {},
   "source": [
    "<p>Prefix length => <b> /15</b>\n",
    "\n",
    "What does slash 15 mean? It means that the first 15 bits of the IP address is your network bits as a subnet mask. That would be a subnet mask with 15 ones in it. So I could literally write out 15 ones.\n",
    "\n",
    "So slash 15 as a prefix length is equivalent to <b>255.254.0.0</b> as subnet mask.</p>\n",
    "\n",
    "<img src=\"../images/7.png\">"
   ]
  },
  {
   "cell_type": "markdown",
   "metadata": {},
   "source": [
    "<h4><strong>Check yourself: Quiz 7</strong><h4>\n",
    "<h4><strong>Question 1:</strong></h4>\n",
    "\n",
    "\n",
    "<p>Which of the following is equivalent to <b>/24?</b> </p>\n",
    "\n",
    "<ol>\n",
    "    <li> 255.255.255.0</li>\n",
    "    <li> 255.255.255.128</li>\n",
    "    <li> 255.255.255.192</li>\n",
    "    <li> 255.255.255.224</li>\n",
    "    <li> 255.255.255.240</li>\n",
    "    <li> 255.255.255.248</li>\n",
    "    <li> 255.255.255.252</li>\n",
    "</ol>\n",
    "\n",
    "<h4><strong>Question 2:</strong></h4>\n",
    "<p>Which of the following is equivalent to <b>/28?</b> </p>\n",
    "\n",
    "<ol>\n",
    "    <li> 255.255.255.0</li>\n",
    "    <li> 255.255.255.128</li>\n",
    "    <li> 255.255.255.192</li>\n",
    "    <li> 255.255.255.224</li>\n",
    "    <li> 255.255.255.240</li>\n",
    "    <li> 255.255.255.248</li>\n",
    "    <li> 255.255.255.252</li>\n",
    "</ol>\n",
    "\n",
    "<h4><strong>Question 3:</strong></h4>\n",
    "<p>Which of the following is equivalent to <b>/26?</b> </p>\n",
    "\n",
    "<ol>\n",
    "    <li> 255.255.255.0</li>\n",
    "    <li> 255.255.255.128</li>\n",
    "    <li> 255.255.255.192</li>\n",
    "    <li> 255.255.255.224</li>\n",
    "    <li> 255.255.255.240</li>\n",
    "    <li> 255.255.255.248</li>\n",
    "    <li> 255.255.255.252</li>\n",
    "</ol>\n",
    "\n",
    "<a href=\"../Answers.ipynb\"><h4><b>Answers</b></h4></a>\n"
   ]
  },
  {
   "cell_type": "markdown",
   "metadata": {},
   "source": [
    "<img src=\"../images/8.png\" alt=\"Converting Prefix Length to a Subnet Mask\">"
   ]
  }
 ],
 "metadata": {
  "kernelspec": {
   "display_name": "Python 3.10.4 64-bit",
   "language": "python",
   "name": "python3"
  },
  "language_info": {
   "name": "python",
   "version": "3.10.4"
  },
  "orig_nbformat": 4,
  "vscode": {
   "interpreter": {
    "hash": "9045ac875e47dcb748cbb8727819668cc40d80514c47a81983c55e51fb514e38"
   }
  }
 },
 "nbformat": 4,
 "nbformat_minor": 2
}
