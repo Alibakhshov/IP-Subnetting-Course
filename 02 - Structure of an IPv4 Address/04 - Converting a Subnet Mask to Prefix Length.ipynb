{
 "cells": [
  {
   "cell_type": "markdown",
   "metadata": {},
   "source": [
    "<h3><strong><a  href=\"https://www.udemy.com/course/ip-subnetting/learn/lecture/6294976#notes\">Converting a Subnet Mask to Prefix Length</a></strong></h3>"
   ]
  },
  {
   "cell_type": "markdown",
   "metadata": {},
   "source": [
    "<p>There is an equivalency between the subnet mask and the prefix length. Subnet mask is essentially doing the same thing as the prefix length, therefore you should be able to convert between the two of them.\n",
    "Let's take a simple subnet mask here \n",
    "\n",
    "<b>255.0.0.0</b> => <b>11111111.00000000.00000000.00000000</b>\n",
    "\n",
    "How many bits in the IP address is this subnet mask covering?\n",
    "\n",
    "In other words if you were to convert this subnet mask into binary how many ones do you have at the beginning of this subnet mask. Well in this octet of the subnet mask we would have eight ones and for the remainder of the subnet mask we would just have zeros. So this subnet mask would therefore cover the first 8 bits of the IP address where network ID that would be your next mask as a prefix.\n",
    "\n",
    "It's therefore equivalent to slash 8.\n",
    "\n",
    "As a result: <b>255.0.0.0 => /8</b>\n",
    "\n",
    "As a result: <b>Subnet Mask => /Prefix length</b>\n",
    "</b>\n",
    "\n",
    "\n",
    "<p>Let's take something a little more challenging. The Subnet Mask is:\n",
    "\n",
    "<b>225.255.255.224 => 11111111.111111111.111111111.11100000</b>>\n",
    "\n",
    "</p>\n"
   ]
  },
  {
   "cell_type": "markdown",
   "metadata": {},
   "source": []
  },
  {
   "cell_type": "markdown",
   "metadata": {},
   "source": []
  },
  {
   "cell_type": "markdown",
   "metadata": {},
   "source": []
  }
 ],
 "metadata": {
  "kernelspec": {
   "display_name": "Python 3.10.4 64-bit",
   "language": "python",
   "name": "python3"
  },
  "language_info": {
   "name": "python",
   "version": "3.10.4"
  },
  "orig_nbformat": 4,
  "vscode": {
   "interpreter": {
    "hash": "9045ac875e47dcb748cbb8727819668cc40d80514c47a81983c55e51fb514e38"
   }
  }
 },
 "nbformat": 4,
 "nbformat_minor": 2
}
