{
 "cells": [
  {
   "cell_type": "markdown",
   "metadata": {},
   "source": [
    "<h3><strong><a  href=\"https://www.udemy.com/course/ip-subnetting/learn/lecture/6294976#notes\">Converting a Subnet Mask to Prefix Length</a></strong></h3>"
   ]
  },
  {
   "cell_type": "markdown",
   "metadata": {},
   "source": [
    "<p>There is an equivalency between the subnet mask and the prefix length. Subnet mask is essentially doing the same thing as the prefix length, therefore you should be able to convert between the two of them.\n",
    "Let's take a simple subnet mask here \n",
    "\n",
    "<b>255.0.0.0</b> => <b>11111111.00000000.00000000.00000000</b>\n",
    "                                   \n",
    "     decimal form      =>              binary form\n",
    "\n",
    "How many bits in the IP address is this subnet mask covering?\n",
    "\n",
    "In other words if you were to convert this subnet mask into binary how many ones do you have at the beginning of this subnet mask. Well in this octet of the subnet mask we would have eight ones and for the remainder of the subnet mask we would just have zeros. So this subnet mask would therefore cover the first 8 bits of the IP address where network ID that would be your next mask as a prefix.\n",
    "\n",
    "It's therefore equivalent to slash 8.\n",
    "\n",
    "As a result: <b>255.0.0.0 => /8</b>\n",
    "\n",
    "As a result: <b>Subnet Mask => /Prefix length</b>\n",
    "</b>\n",
    "\n",
    "\n",
    "<p>Let's take something a little more challenging. The Subnet Mask is:\n",
    "\n",
    "<b>225.255.255.224 => 11111111.111111111.111111111.11100000</b>>\n",
    "                                    \n",
    "     decimal form         =>           binary form\n",
    "\n",
    "What is a Prefix length of this Subnet Mask? Or in other words how many ones are in the subnet mask.\n",
    "We have 8 eight's in the first three octets. If we will count how many ones are in the binary form of subnet mask we will find the prefix length. Let's count in this one <b>11111111.111111111.111111111.11100000</b>. We see there are \n",
    "27 bits.\n",
    "\n",
    "As a result: <b>255.255.255.224 => /27</b>\n",
    "\n",
    "<b>Conclusion:</b> In order to convert a subnet mask to a prefix length simply count the number of ones that you have in the subnet mask. That is how many bits are being covered by that subnet mask for a network ID and therefore that number is the prefix length.\n",
    "</p>\n"
   ]
  },
  {
   "cell_type": "markdown",
   "metadata": {},
   "source": [
    "<h4><strong>Check yourself: Quiz 6</strong><h4>\n",
    "<h4><strong>Question 1:</strong></h4>\n",
    "\n",
    "<p>Which of the following is equivalent to 255.255.0.0?</p>\n",
    "\n",
    "<ol>\n",
    "    <li>/16</li>\n",
    "    <li>/17</li>\n",
    "    <li>/18</li>\n",
    "    <li>/19</li>\n",
    "</ol>\n",
    "\n",
    "<h4><strong>Question 2:</strong></h4>\n",
    "\n",
    "<p>Which of the following is equivalent to 255.255.224.0?</p>\n",
    "\n",
    "<ol>\n",
    "    <li>/16</li>\n",
    "    <li>/17</li>\n",
    "    <li>/18</li>\n",
    "    <li>/19</li>\n",
    "</ol>\n",
    "\n",
    "<h4><strong>Question 3:</strong></h4>\n",
    "\n",
    "<p>Which of the following is equivalent to 255.255.240.0?</p>\n",
    "\n",
    "<ol>\n",
    "    <li>/19</li>\n",
    "    <li>/20</li>\n",
    "    <li>/21</li>\n",
    "    <li>/22</li>\n",
    "</ol>\n",
    "\n",
    "<h4><strong>Question 4:</strong></h4>\n",
    "\n",
    "<p>Which of the following is equivalent to 255.255.128.0?</p>\n",
    "\n",
    "<ol>\n",
    "    <li>/16</li>\n",
    "    <li>/17</li>\n",
    "    <li>/18</li>\n",
    "    <li>/19</li>\n",
    "</ol>\n",
    "\n",
    "<h4><strong>Question 5:</strong></h4>\n",
    "\n",
    "<p>Which of the following is equivalent to 255.255.248.0?</p>\n",
    "\n",
    "<ol>\n",
    "    <li>/19</li>\n",
    "    <li>/20</li>\n",
    "    <li>/21</li>\n",
    "    <li>/22</li>\n",
    "</ol>\n",
    "\n",
    "<a href=\"../Answers.ipynb\"><h4><b>Answers</b></h4></a>"
   ]
  }
 ],
 "metadata": {
  "kernelspec": {
   "display_name": "Python 3.10.4 64-bit",
   "language": "python",
   "name": "python3"
  },
  "language_info": {
   "name": "python",
   "version": "3.10.4"
  },
  "orig_nbformat": 4,
  "vscode": {
   "interpreter": {
    "hash": "9045ac875e47dcb748cbb8727819668cc40d80514c47a81983c55e51fb514e38"
   }
  }
 },
 "nbformat": 4,
 "nbformat_minor": 2
}
