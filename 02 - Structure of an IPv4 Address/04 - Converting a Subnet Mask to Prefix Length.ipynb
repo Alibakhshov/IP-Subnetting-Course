{
 "cells": [
  {
   "cell_type": "markdown",
   "metadata": {},
   "source": [
    "<h3><strong><a  href=\"https://www.udemy.com/course/ip-subnetting/learn/lecture/6294976#notes\">Converting a Subnet Mask to Prefix Length</a></strong></h3>"
   ]
  },
  {
   "cell_type": "markdown",
   "metadata": {},
   "source": [
    "<p>There is an equivalency between the subnet mask and the prefix length. Subnet mask is essentially doing the same thing as the prefix length, therefore you should be able to convert between the two of them.\n",
    "Let's take a simple subnet mask here to <b>255.0.0.0</b>\n",
    "\n",
    "How many bits in the IP address is this subnet mask covering.\n",
    "\n",
    "In other words if you were to convert this subnet mask into binary how many ones do you have at the\n",
    "\n",
    "beginning of this subnet mask.\n",
    "\n",
    "Well in this octet of the subnet mask we would have eight ones\n",
    "\n",
    "to 5:5 8 once and for the remainder of the subnet mask we would just have zeros.\n",
    "\n",
    "So this subnet mask would therefore cover the first 8 bits of the IP address where network ID that would\n",
    "\n",
    "be your next mask as a prefix.\n",
    "\n",
    "It's therefore equivalent to slash 8.\n",
    "</b>"
   ]
  },
  {
   "cell_type": "markdown",
   "metadata": {},
   "source": []
  },
  {
   "cell_type": "markdown",
   "metadata": {},
   "source": []
  },
  {
   "cell_type": "markdown",
   "metadata": {},
   "source": []
  }
 ],
 "metadata": {
  "kernelspec": {
   "display_name": "Python 3.10.4 64-bit",
   "language": "python",
   "name": "python3"
  },
  "language_info": {
   "name": "python",
   "version": "3.10.4"
  },
  "orig_nbformat": 4,
  "vscode": {
   "interpreter": {
    "hash": "9045ac875e47dcb748cbb8727819668cc40d80514c47a81983c55e51fb514e38"
   }
  }
 },
 "nbformat": 4,
 "nbformat_minor": 2
}
