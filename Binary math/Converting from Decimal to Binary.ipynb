{
 "cells": [
  {
   "cell_type": "markdown",
   "metadata": {},
   "source": [
    "<h3><strong>Converting from Decimal to Binary</strong></h3>"
   ]
  },
  {
   "cell_type": "markdown",
   "metadata": {},
   "source": [
    "<p><strong>The rules to convert decimal to binary numbers are given below:</strong></p>\n",
    "<ol>\n",
    "    <li>Write down the number</li>\n",
    "    <li>Divide it by 2 and note the remainder</li>\n",
    "    <li>Divide the quotient obtained by 2 and note the remainder</li>\n",
    "    <li>Repeat the same process till we get 0 as the quotient</li>\n",
    "    <li>Write the values of all the remainders starting from the bottom to the top</li>\n",
    "</ol>\n",
    "<p><b>NOTE:</b> Final answer is written from bottom to top</p>\n",
    "\n",
    "<img src=\"../images/2.png\" alt=\"Converting binary to decimal\">"
   ]
  },
  {
   "cell_type": "markdown",
   "metadata": {},
   "source": [
    "<h4><strong>Check yourself: Quiz 2</strong><h4>\n",
    "<h4><strong>Question 1:</strong></h4>\n",
    "\n",
    "<p>Which of the following is equivalent to this decimal number:\n",
    "             \n",
    "             224\n",
    "\n",
    "Please try to solve without the use of a calculator. While that may be a challenge, I too like to use a calculator, it will help you to understand binary better. These skills will come into play later when we tackle subnetting.</p>\n",
    "\n",
    "<ol>\n",
    "    <li>10000000</li>\n",
    "    <li>11000000</li>\n",
    "    <li>11100000</li>\n",
    "    <li>11110000</li>\n",
    "    <li>11111000</li>\n",
    "    <li>11111100</li>\n",
    "    <li>11111110</li>\n",
    "    <li>11111111</li>\n",
    "</ol>\n",
    "\n",
    "\n",
    "<h4><strong>Question 2:</strong></h4>\n",
    "\n",
    "<p>Which of the following is equivalent to this decimal number:\n",
    "             \n",
    "             192\n",
    "\n",
    "Please try to solve without the use of a calculator. While that may be a challenge, I too like to use a calculator, it will help you to understand binary better. These skills will come into play later when we tackle subnetting.</p>\n",
    "\n",
    "<ol>\n",
    "    <li>10000000</li>\n",
    "    <li>11000000</li>\n",
    "    <li>11100000</li>\n",
    "    <li>11110000</li>\n",
    "    <li>11111000</li>\n",
    "    <li>11111100</li>\n",
    "    <li>11111110</li>\n",
    "    <li>11111111</li>\n",
    "</ol>\n",
    "\n",
    "\n",
    "<p>Which of the following is equivalent to this decimal number:\n",
    "             \n",
    "             240\n",
    "\n",
    "Please try to solve without the use of a calculator. While that may be a challenge, I too like to use a calculator, it will help you to understand binary better. These skills will come into play later when we tackle subnetting.</p>\n",
    "\n",
    "<ol>\n",
    "    <li>10000000</li>\n",
    "    <li>11000000</li>\n",
    "    <li>11100000</li>\n",
    "    <li>11110000</li>\n",
    "    <li>11111000</li>\n",
    "    <li>11111100</li>\n",
    "    <li>11111110</li>\n",
    "    <li>11111111</li>\n",
    "</ol>\n",
    "\n",
    "<a href=\"../Answers.ipynb\"><h4><b>Answers</b></h4></a>"
   ]
  }
 ],
 "metadata": {
  "kernelspec": {
   "display_name": "Python 3.10.4 64-bit",
   "language": "python",
   "name": "python3"
  },
  "language_info": {
   "name": "python",
   "version": "3.10.4"
  },
  "orig_nbformat": 4,
  "vscode": {
   "interpreter": {
    "hash": "9045ac875e47dcb748cbb8727819668cc40d80514c47a81983c55e51fb514e38"
   }
  }
 },
 "nbformat": 4,
 "nbformat_minor": 2
}
