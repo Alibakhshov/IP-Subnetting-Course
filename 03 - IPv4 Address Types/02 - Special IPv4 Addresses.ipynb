{
 "cells": [
  {
   "cell_type": "markdown",
   "metadata": {},
   "source": [
    "<h3><strong><a  href=\"https://www.udemy.com/course/ip-subnetting/learn/lecture/6295000#overview\">Special IPv4 Addresses</a></strong></h3>"
   ]
  },
  {
   "cell_type": "markdown",
   "metadata": {},
   "source": [
    "<p>There are a few special IP addresses or IP numbers that carry special meaning\n",
    "and because of that you cannot assign them to a specific system. In this section I'd like to look at those special IP addresses. The first one is the <b>network ID.</b> The network ID is the IP address where the host ID bits are all zeros.\n",
    "\n",
    "So for example let's take the IP address below:\n",
    "\n",
    "<b>172.17.0.0</b>\n",
    "\n",
    "In this scenario <b>172.17</b> are network ID and the next two octets are <b>host ID</b> and this particular number the host ID section is all zeros.\n",
    "This is sometimes referred to as a <b>routing prefix</b>. This number will appear in the routing table of routers and we used to identify the <b>172.17</b> network.</p>\n",
    "\n",
    "<img src=\"../images/11.png\" alt=\"Special IPv4 Address\">"
   ]
  },
  {
   "cell_type": "markdown",
   "metadata": {},
   "source": []
  },
  {
   "cell_type": "markdown",
   "metadata": {},
   "source": []
  },
  {
   "cell_type": "markdown",
   "metadata": {},
   "source": []
  },
  {
   "cell_type": "markdown",
   "metadata": {},
   "source": []
  }
 ],
 "metadata": {
  "kernelspec": {
   "display_name": "Python 3.10.4 64-bit",
   "language": "python",
   "name": "python3"
  },
  "language_info": {
   "name": "python",
   "version": "3.10.4"
  },
  "orig_nbformat": 4,
  "vscode": {
   "interpreter": {
    "hash": "9045ac875e47dcb748cbb8727819668cc40d80514c47a81983c55e51fb514e38"
   }
  }
 },
 "nbformat": 4,
 "nbformat_minor": 2
}
