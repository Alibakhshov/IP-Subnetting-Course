{
 "cells": [
  {
   "cell_type": "markdown",
   "metadata": {},
   "source": [
    "<h3><strong><a  href=\"https://www.udemy.com/course/ip-subnetting/learn/lecture/6295000#overview\">Special IPv4 Addresses</a></strong></h3>"
   ]
  },
  {
   "cell_type": "markdown",
   "metadata": {},
   "source": [
    "<p>There are a few special IP addresses or IP numbers that carry special meaning\n",
    "and because of that you cannot assign them to a specific system. In this section I'd like to look at those special IP addresses. The first one is the <b>network ID.</b> The network ID is the IP address where the host ID bits are all zeros.\n",
    "\n",
    "So for example let's take the IP address below:\n",
    "\n",
    "<b>172.17.0.0</b>\n",
    "\n",
    "In this scenario 172 17 the first two octets the first 16 bits are network ID\n",
    "\n",
    "and the next two octets the last two octets are host ID and this particular number the host ID section\n",
    "\n",
    "is all zeros.\n",
    "\n",
    "Therefore this number that you're looking at is a network ID number one 1:53 17 0 0 slash 16 is a network\n",
    "\n",
    "ID.\n",
    "\n",
    "This is sometimes referred to as a routing prefix</p>"
   ]
  },
  {
   "cell_type": "markdown",
   "metadata": {},
   "source": []
  },
  {
   "cell_type": "markdown",
   "metadata": {},
   "source": []
  },
  {
   "cell_type": "markdown",
   "metadata": {},
   "source": []
  },
  {
   "cell_type": "markdown",
   "metadata": {},
   "source": []
  }
 ],
 "metadata": {
  "kernelspec": {
   "display_name": "Python 3.10.4 64-bit",
   "language": "python",
   "name": "python3"
  },
  "language_info": {
   "name": "python",
   "version": "3.10.4"
  },
  "orig_nbformat": 4,
  "vscode": {
   "interpreter": {
    "hash": "9045ac875e47dcb748cbb8727819668cc40d80514c47a81983c55e51fb514e38"
   }
  }
 },
 "nbformat": 4,
 "nbformat_minor": 2
}
