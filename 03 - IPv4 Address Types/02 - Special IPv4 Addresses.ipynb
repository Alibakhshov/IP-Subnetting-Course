{
 "cells": [
  {
   "cell_type": "markdown",
   "metadata": {},
   "source": [
    "<h3><strong><a  href=\"https://www.udemy.com/course/ip-subnetting/learn/lecture/6295000#overview\">Special IPv4 Addresses</a></strong></h3>"
   ]
  },
  {
   "cell_type": "markdown",
   "metadata": {},
   "source": [
    "<p>There are a few special IP addresses or IP numbers that carry special meaning\n",
    "and because of that you cannot assign them to a specific system. In this section I'd like to look at those special IP addresses. The first one is the <b>network ID.</b> The network ID is the IP address where the host ID bits are all zeros.\n",
    "\n",
    "So for example let's take the IP address below:\n",
    "\n",
    "<b>172.17.0.0</b>\n",
    "\n",
    "In this scenario <b>172.17</b> are network ID and the next two octets are <b>host ID</b> and this particular number the host ID section is all zeros.\n",
    "This is sometimes referred to as a <b>routing prefix</b>. This number will appear in the routing table of routers and we used to identify the <b>172.17</b> network.</p>\n",
    "\n",
    "<img src=\"../images/11.png\" alt=\"Special IPv4 Address\">"
   ]
  },
  {
   "cell_type": "markdown",
   "metadata": {},
   "source": [
    "<p>Let's look at a trickier example.Let's say we had an IP address of:\n",
    "\n",
    "<b>192.168.9.4/30</b>\n",
    "\n",
    "The <b>/30</b> is covering the first three octets entirely and it's covering some of the bits in the fourth octet.\n",
    "\n",
    "So we need to look at the fourth octet more closely in binary.\n",
    "\n",
    "The fourth octet in binary will be:\n",
    "\n",
    "<b>4  => 00000100</b>\n",
    "\n",
    "As we see, in binary form the value of first 6 digit is 4 in bits. That is why it will be the Network ID. And then these last two bits in the picture below are the <b>host ID</b> bits. The host ID bits have a value of zero. So therefore The IP address <b>192.168.9.4</b> is a network ID because host ID is all zeros.</p>\n",
    "\n",
    "<img src=\"../images/12.png\" alt=\"Special IPv4 addresses\">"
   ]
  },
  {
   "cell_type": "markdown",
   "metadata": {},
   "source": [
    "<p>So there is only one broadcast IP that is:\n",
    "\n",
    "<b>255.255.255.255</b>\n",
    "\n",
    "Now there is another type of broadcast IP address called the <b>directed broadcast IP.</b> <b>Directed broadcast IP</b> is the IP address where the host ID is all ones.\n",
    "\n",
    "<b>For example:</b>\n",
    "\n",
    "Let's say we had an IP address of:\n",
    "\n",
    "<b>172.17.255.255/16</b>\n",
    "\n",
    "In this IP address the first 16 bits or the first two octets are the <b>Network ID</b> and the last two octets are <b>host ID.</b>\n",
    "\n",
    "The last two octets has 2 5 5 2 5 5 which is all ones.\n",
    "\n",
    "This is a ones.\n",
    "\n",
    "This is 8.\n",
    "\n",
    "Once the entire host ID section is all once this number you're looking at is therefore directed broadcast\n",
    "\n",
    "IP address and you cannot assign this to a system.\n",
    "\n",
    "What does this IP address therefore mean.\n",
    "\n",
    "Well it means if you send any data to this IP address as your destination IP address you want that data\n",
    "\n",
    "sent.\n",
    "\n",
    "All systems on the 172 17 network.\n",
    "\n",
    "That is different from the let's call this the general broadcast IP address of 2 5 5 5 5 to 2 5 5 to\n",
    "\n",
    "255.\n",
    "\n",
    "If you sent data to this IP address you're saying send this packet to everyone on every connected network\n",
    "\n",
    "whereas the directed broadcast IP is saying send this packet to everyone on the 172 dot 17 network.\n",
    "\n",
    "So that's a big difference.\n",
    "\n",
    "The broadcast IP is saying send this packet to everyone in the universe and be directed broadcast IP\n",
    "\n",
    "is saying send this packet to everyone in Ireland for example</p>"
   ]
  },
  {
   "cell_type": "markdown",
   "metadata": {},
   "source": []
  },
  {
   "cell_type": "markdown",
   "metadata": {},
   "source": []
  }
 ],
 "metadata": {
  "kernelspec": {
   "display_name": "Python 3.10.4 64-bit",
   "language": "python",
   "name": "python3"
  },
  "language_info": {
   "name": "python",
   "version": "3.10.4"
  },
  "orig_nbformat": 4,
  "vscode": {
   "interpreter": {
    "hash": "9045ac875e47dcb748cbb8727819668cc40d80514c47a81983c55e51fb514e38"
   }
  }
 },
 "nbformat": 4,
 "nbformat_minor": 2
}
