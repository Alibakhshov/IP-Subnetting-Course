{
 "cells": [
  {
   "cell_type": "markdown",
   "metadata": {},
   "source": [
    "<h3><strong><a  href=\"https://www.udemy.com/course/ip-subnetting/learn/lecture/6295000#overview\">Special IPv4 Addresses</a></strong></h3>"
   ]
  },
  {
   "cell_type": "markdown",
   "metadata": {},
   "source": [
    "<p>There are a few special IP addresses or IP numbers that carry special meaning\n",
    "and because of that you cannot assign them to a specific system. In this section I'd like to look at those special IP addresses. The first one is the <b>network ID.</b> The network ID is the IP address where the host ID bits are all zeros.\n",
    "\n",
    "So for example let's take the IP address below:\n",
    "\n",
    "<b>172.17.0.0</b>\n",
    "\n",
    "In this scenario <b>172.17</b> are network ID and the next two octets are <b>host ID</b> and this particular number the host ID section is all zeros.\n",
    "This is sometimes referred to as a <b>routing prefix</b>. This number will appear in the routing table of routers and we used to identify the <b>172.17</b> network.</p>\n",
    "\n",
    "<img src=\"../images/11.png\" alt=\"Special IPv4 Address\">"
   ]
  },
  {
   "cell_type": "markdown",
   "metadata": {},
   "source": [
    "<p>Let's look at a trickier example.Let's say we had an IP address of:\n",
    "\n",
    "<b>192.168.9.4/30</b>\n",
    "\n",
    "What am I looking at here what type of IP addresses this can I assign this to a system will slash 30\n",
    "\n",
    "is covering the first three octets entirely and it's covering some of the bits in the fourth octet.\n",
    "\n",
    "So we need to look at the fourth octet more closely for in binary is 0 0 1.\n",
    "\n",
    "This is one to this column is for we put a 1 there so that's four.\n",
    "\n",
    "But the octet is 8 bits.\n",
    "\n",
    "So we need to pad this with five zeros\n",
    "\n",
    "and we have 8 bits there 1 2 3 4 5 6 7 8 30 is covering the first three octets up to this point.\n",
    "\n",
    "Here you have 24 bits\n",
    "\n",
    "25 26 27 28 29 30.\n",
    "\n",
    "These are 30 bits so this is your thirtieth bit here.\n",
    "\n",
    "The value of this is four.\n",
    "\n",
    "And then these last two bits here are host ID bits.\n",
    "\n",
    "But look at this.\n",
    "\n",
    "The host ID bits have a value of zero.\n",
    "\n",
    "So therefore this number that you're looking at is a network ID because host ID is all zeros</p>"
   ]
  },
  {
   "cell_type": "markdown",
   "metadata": {},
   "source": []
  },
  {
   "cell_type": "markdown",
   "metadata": {},
   "source": []
  },
  {
   "cell_type": "markdown",
   "metadata": {},
   "source": []
  }
 ],
 "metadata": {
  "kernelspec": {
   "display_name": "Python 3.10.4 64-bit",
   "language": "python",
   "name": "python3"
  },
  "language_info": {
   "name": "python",
   "version": "3.10.4"
  },
  "orig_nbformat": 4,
  "vscode": {
   "interpreter": {
    "hash": "9045ac875e47dcb748cbb8727819668cc40d80514c47a81983c55e51fb514e38"
   }
  }
 },
 "nbformat": 4,
 "nbformat_minor": 2
}
