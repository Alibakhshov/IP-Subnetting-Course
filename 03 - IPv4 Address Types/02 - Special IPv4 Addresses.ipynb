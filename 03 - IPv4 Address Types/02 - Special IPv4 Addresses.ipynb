{
 "cells": [
  {
   "cell_type": "markdown",
   "metadata": {},
   "source": [
    "<h3><strong><a  href=\"https://www.udemy.com/course/ip-subnetting/learn/lecture/6295000#overview\">Special IPv4 Addresses</a></strong></h3>"
   ]
  },
  {
   "cell_type": "markdown",
   "metadata": {},
   "source": [
    "<p>There are a few special IP addresses or IP numbers that carry special meaning\n",
    "and because of that you cannot assign them to a specific system. In this section I'd like to look at those special IP addresses. The first one is the <b>network ID.</b> The network ID is the IP address where the host ID bits are all zeros.\n",
    "\n",
    "So for example let's take the IP address below:\n",
    "\n",
    "<b>172.17.0.0</b>\n",
    "\n",
    "In this scenario <b>172.17</b> are network ID and the next two octets are <b>host ID</b> and this particular number the host ID section is all zeros.\n",
    "This is sometimes referred to as a <b>routing prefix</b>. This number will appear in the routing table of routers and we used to identify the <b>172.17</b> network.</p>\n",
    "\n",
    "<img src=\"../images/11.png\" alt=\"Special IPv4 Address\">"
   ]
  },
  {
   "cell_type": "markdown",
   "metadata": {},
   "source": [
    "<p>Let's look at a trickier example.Let's say we had an IP address of:\n",
    "\n",
    "<b>192.168.9.4/30</b>\n",
    "\n",
    "The <b>/30</b> is covering the first three octets entirely and it's covering some of the bits in the fourth octet.\n",
    "\n",
    "So we need to look at the fourth octet more closely in binary.\n",
    "\n",
    "The fourth octet in binary will be:\n",
    "\n",
    "<b>4  => 00000100</b>\n",
    "\n",
    "As we see, in binary form the value of first 6 digit is 4 in bits. That is why it will be the Network ID. And then these last two bits in the picture below are the <b>host ID</b> bits. The host ID bits have a value of zero. So therefore The IP address <b>192.168.9.4</b> is a network ID because host ID is all zeros.</p>\n",
    "\n",
    "<img src=\"../images/12.png\" alt=\"Special IPv4 addresses\">"
   ]
  },
  {
   "cell_type": "markdown",
   "metadata": {},
   "source": [
    "<h3><strong>Broadcast IP</strong></h3>\n",
    "\n",
    "<p>So there is only one broadcast IP that is:\n",
    "\n",
    "<b>255.255.255.255</b>\n",
    "\n",
    "Now there is another type of broadcast IP address called the <b>directed broadcast IP.</b> <b>Directed broadcast IP</b> is the IP address where the host ID is all ones.\n",
    "\n",
    "<b>For example:</b>\n",
    "\n",
    "Let's say we had an IP address of:\n",
    "\n",
    "<b>172.17.255.255/16</b>\n",
    "\n",
    "In this IP address the first 16 bits or the first two octets are the <b>Network ID</b> and the last two octets are <b>host ID.</b> The first two octets has <b>255.255</b> which are all ones. Once the entire host ID section is all once this number you're looking at is therefore directed broadcast IP address and you cannot assign this to a system.\n",
    "\n",
    "<b>What does this IP address therefore mean?</b>\n",
    "\n",
    "If you sent data to <b>255.255.255.255</b> you're saying: send this packet to everyone on every connected network, whereas the <b>directed broadcast IP</b> is saying: send this packet to everyone on the <b>172.17</b> network.\n",
    "\n",
    "<b>So that's a big difference.</b>\n",
    "\n",
    "The <b>broadcast IP</b> is saying send this packet to everyone in the universe andthe <b>directed broadcast IP</b>is saying send this packet to everyone in Ireland for example.</p>\n",
    "\n",
    "<img src=\"../images/13.png\" alt=\"Special IPv4 addresses\">"
   ]
  },
  {
   "cell_type": "markdown",
   "metadata": {},
   "source": [
    "<h3><strong>Loopback IP</strong></h3>\n",
    "\n",
    "<p>The Internet authorities reserved arrange your IP addresses starting with <b>127.0.0.0</b> all the way to <b>127.255.255.255</b> as your loopback IP address range. The <b>loopback IP</b> points to yourself, in other words in a computer network that IP address will always point back to your machine if you sent data to 127.0.0.0 you're sending that data to yourself.\n",
    "\n",
    "The loopback IP is used for a couple of things that's used for diagnostics\n",
    "\n",
    "and it's used in a scenario where you need to connect to the local host.\n",
    "\n",
    "Let's talk about these two.\n",
    "\n",
    "If you ping to the loopback IP you're technically testing whether or not the IP software is installed\n",
    "\n",
    "correctly on your system and whether or not your network card driver is installed correctly.\n",
    "\n",
    "So that's diagnostics.\n",
    "\n",
    "The local host sometimes you might want to be able to connect to another piece of software running on\n",
    "\n",
    "your own computer.\n",
    "\n",
    "So let's say you had a web server set up on your computer and on your same computer you were in the\n",
    "\n",
    "browser and you wanted to connect to the web server on your same system.\n",
    "\n",
    "What address do you type into the browser.\n",
    "\n",
    "Well you could type in the loopback IP 127 0 0 or 1.\n",
    "\n",
    "Or you could type in local host which is a name that is usually associated with the loopback IP on most\n",
    "\n",
    "systems.\n",
    "\n",
    "One last point here.\n",
    "\n",
    "I'm using this IP address as an example of loopback IP.\n",
    "\n",
    "This is not the only loopback IP I'd like to remind you that the loopback IP is a range of IP addresses.\n",
    "\n",
    "The rule is if it starts with 1:27 it's loopback.\n",
    "\n",
    "So this is the typical IP that most people use.\n",
    "\n",
    "But if I had used 1:27 at 59 dot 63 dot 28 that is also a loopback IP.\n",
    "\n",
    "To summarize the loopback IP points to yourself and as a result you cannot assign this IP in your TCAP\n",
    "\n",
    "IP properties.</p>"
   ]
  },
  {
   "cell_type": "markdown",
   "metadata": {},
   "source": []
  }
 ],
 "metadata": {
  "kernelspec": {
   "display_name": "Python 3.10.4 64-bit",
   "language": "python",
   "name": "python3"
  },
  "language_info": {
   "name": "python",
   "version": "3.10.4"
  },
  "orig_nbformat": 4,
  "vscode": {
   "interpreter": {
    "hash": "9045ac875e47dcb748cbb8727819668cc40d80514c47a81983c55e51fb514e38"
   }
  }
 },
 "nbformat": 4,
 "nbformat_minor": 2
}
