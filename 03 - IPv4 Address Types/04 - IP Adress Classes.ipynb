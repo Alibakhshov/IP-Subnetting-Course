{
 "cells": [
  {
   "cell_type": "markdown",
   "metadata": {},
   "source": [
    "<h3><strong><a  href=\"https://www.udemy.com/course/ip-subnetting/learn/lecture/6354128#overview\">IP Address Classes</a></strong></h3>"
   ]
  },
  {
   "cell_type": "markdown",
   "metadata": {},
   "source": [
    "<h5><b>What is an IP Address?</b></h5>\n",
    "\n",
    "<p>An IP (Internet Protocol) address is a numerical label assigned to the devices connected to a computer network that uses the IP for communication.\n",
    "\n",
    "IP address act as an identifier for a specific machine on a particular network. It also helps you to develop a virtual connection between a destination and a source. The IP address is also called IP number or internet address. It helps you to specify the technical format of the addressing and packets scheme. Most networks combine TCP with IP.\n",
    "\n",
    "An IP address consists of four numbers, each number contains one to three digits, with a single dot (.) separates each number or set of digits</p>\n",
    "\n",
    "\n",
    "<h5><b>How does IP address work?</b></h5>\n",
    "IP address works in an IP network like a postal address. For example, a postal address combines two addresses, address, or your area your house address.\n",
    "\n",
    "The address or your area is a group address of all houses that belong to a specific area. The house address is the unique address of your homes in that area. Here, your area is represented by a PIN code number.\n",
    "\n",
    "In this example, the network address comprises all hosts which belong to a specific network. The host address is the unique address of a particular host in that network.\n",
    "\n",
    "<h5><b>What is Classful Addressing?</b></h5>\n",
    "\n",
    "Classful addressing is a network addressing the Internet’s architecture from 1981 till Classless Inter-Domain Routing was introduced in 1993.\n",
    "\n",
    "This addressing method divides the IP address into five separate classes based on four address bits.\n",
    "\n",
    "Here, classes A, B, C offers addresses for networks of three distinct network sizes. Class D is only used for multicast, and class E reserved exclusively for experimental purposes.\n",
    "\n",
    "Let’s see each of the network classes in detail:\n",
    "\n",
    " <img src=\"../images/22.png\" alt=\"Classes\">"
   ]
  },
  {
   "cell_type": "markdown",
   "metadata": {},
   "source": [
    "<h5><b>Class A Network</b></h5>\n",
    "\n",
    "<p>This IP address class is used when there are a large number of hosts. In a Class A type of network, the first 8 bits (also called the first octet) identify the network, and the remaining have 24 bits for the host into that network.\n",
    "\n",
    "An example of a Class A address is 102.168.212.226. Here, “102” helps you identify the network and 168.212.226 identify the host.\n",
    "\n",
    "Class A addresses 127.0.0.0 to 127.255.255.255 cannot be used and is reserved for loopback and diagnostic functions.</p>\n",
    "\n",
    " <img src=\"../images/21.png\" alt=\"Class A\">"
   ]
  },
  {
   "cell_type": "markdown",
   "metadata": {},
   "source": [
    "<h5><b>Class B Network</b></h5>\n",
    "\n",
    "<p>In a B class IP address, the binary addresses start with 10. In this IP address, the class decimal number that can be between 128 to 191. The number 127 is reserved for loopback, which is used for internal testing on the local machine. The first 16 bits (known as two octets) help you identify the network. The other remaining 16 bits indicate the host within the network.\n",
    "\n",
    "An example of Class B IP address is 168.212.226.204, where *168 212* identifies the network and *226.204* helps you identify the Hut network host.</p>\n",
    "\n",
    " <img src=\"../images/23.png\" alt=\"Class B\">"
   ]
  },
  {
   "cell_type": "markdown",
   "metadata": {},
   "source": [
    "<h5><b>Class C Network</b></h5>\n",
    "\n",
    "<p> Class C is a type of IP address that is used for the small network. In this class, three octets are used to indent the network. This IP ranges between 192 to 223.\n",
    "\n",
    "In this type of network addressing method, the first two bits are set to be 1, and the third bit is set to 0, which makes the first 24 bits of the address them and the remaining bit as the host address. Mostly local area network used Class C IP address to connect with the network.\n",
    "\n",
    "Example for a Class C IP address:\n",
    "\n",
    "192.168.178.1</p>\n",
    "\n",
    " <img src=\"../images/24.png\" alt=\"Class C\">"
   ]
  },
  {
   "cell_type": "markdown",
   "metadata": {},
   "source": [
    "<h5><b>Class D Network</b></h5>\n",
    "\n",
    "<p>Class D addresses are only used for multicasting applications. Class D is never used for regular networking operations. This class addresses the first three bits set to “1” and their fourth bit set to use for “0”. Class D addresses are 32-bit network addresses. All the values within the range are used to identify multicast groups uniquely.\n",
    "\n",
    "Therefore, there is no requirement to extract the host address from the IP address, so Class D does not have any subnet mask.\n",
    "\n",
    "Example for a Class D IP address:\n",
    "227.21.6.173</p>\n",
    "\n",
    "<img src=\"../images/25.png\" alt=\"Class C\">"
   ]
  },
  {
   "cell_type": "markdown",
   "metadata": {},
   "source": [
    "<h5><b>Class E Network</b></h5>\n",
    "\n",
    "<p>Class E IP address is defined by including the starting four network address bits as 1, which allows you two to incorporate addresses from 240.0.0.0 to 255.255.255.255. However, E class is reserved, and its usage is never defined. Therefore, many network implementations discard these addresses as undefined or illegal.\n",
    "\n",
    "Example for a Class E IP address:\n",
    "\n",
    "243.164.89.28</p>\n",
    "\n",
    "<img src=\"../images/26.png\" alt=\"Class C\">"
   ]
  },
  {
   "cell_type": "markdown",
   "metadata": {},
   "source": [
    "<h5><b>Limitations of classful IP addressing</b></h5>\n",
    "\n",
    "<p>Here are the drawbacks/ cons of the classful IP addressing method:</p>\n",
    "\n",
    "<ul>\n",
    "    <li>Risk of running out of address space soon</li>\n",
    "    <li>Class boundaries did not encourage efficient allocation of address space</li>\n",
    "</ul>\n",
    "\n",
    "<h5><b>Rules for assigning Network ID:</b></h5>\n",
    "\n",
    "<p>The network ID will be assigned based on the below-given rules:</p>\n",
    "\n",
    "<ul>\n",
    "    <li>The network ID cannot start with 127 because 127 belongs to class A address and is reserved for internal loopback functions.</li>\n",
    "    <li>All bits of network ID set to 1 are reserved for use as an IP broadcast address and cannot be used.</li>\n",
    "    <li>All bits of network ID are set to 0. They are used to denote a particular host on the local network and should not be routed.</li>\n",
    "</ul>\n",
    "\n",
    "\n",
    "<h5><b>Summary:</b></h5>\n",
    "\n",
    "<ul>\n",
    "    <li>An IP (Internet Protocol) address is a numerical label assigned to the devices connected to a computer network that uses the IP for communication.</li>\n",
    "    <li>IP Address is divided into two parts: 1) Prefix 2)Suffix</li>\n",
    "    <li>IP address works in a network like a postal address. For example, a postal address combines two addresses, address, or your area your house address.</li>\n",
    "    <li>In a class A type of network, the first 8 bits (also called the first octet) identify the network, and the remaining have 24 bits for the host into that network.</li>\n",
    "    <li>In class B type of network, the first 16 bits (known as two octets) help you identify the network. The other remaining 16 bits indicate the host within the network.</li>\n",
    "    <li>In class C, three octets are used to indent the network. This IP ranges between 192 to 223.</li>\n",
    "    <li>Class D addresses are 32-bit network addresses. All the values within the range are used to identify multicast groups uniquely.</li>\n",
    "    <li>Class E IP address is defined by including the starting four network address bits as 1.</li>\n",
    "    <li>The major drawback of IP address classes is the risk of running out of address space soon.</li>\n",
    "    <li>Important rule for assigning network id is that the network ID cannot start with 127 as this number belongs to class A address and reserved for internal loopback functions.</li>\n",
    "</ul>"
   ]
  },
  {
   "cell_type": "markdown",
   "metadata": {},
   "source": [
    "<h4><strong>Check yourself: Quiz 9</strong><h4>\n",
    "<h4><strong>Question 1:</strong></h4>\n",
    "\n",
    "<p>Which of the following is the range of values for the first octet for Class A?</p>\n",
    "\n",
    "<ol>\n",
    "    <li>1 - 125</li>\n",
    "    <li>1 - 128</li>\n",
    "    <li>1 - 126</li>\n",
    "    <li>1 - 129</li>\n",
    "</ol>\n",
    "\n",
    "<h4><strong>Question 2:</strong></h4>\n",
    "\n",
    "<p>Which of the following defines the Class A IP addresses range?</p>\n",
    "\n",
    "<ol>\n",
    "    <li> In binary the first 4 bits of the first octet must be 1111</li>\n",
    "    <li> In binary the first 2 bits of the first octet must be 10</li>\n",
    "    <li> In binary the first bit of the first octet must be a 0</li>\n",
    "    <li> In binary the first 3 bits of the first octet must be 110</li>\n",
    "</ol>\n",
    "\n",
    "<h4><strong>Question 3:</strong></h4>\n",
    "\n",
    "<p></p>\n",
    "\n",
    "<ol>\n",
    "    <li></li>\n",
    "    <li></li>\n",
    "    <li></li>\n",
    "    <li></li>\n",
    "</ol>\n",
    "\n",
    "<a href=\"../Answers.ipynb\"><h4><b>Answers</b></h4></a>"
   ]
  },
  {
   "cell_type": "markdown",
   "metadata": {},
   "source": []
  },
  {
   "cell_type": "markdown",
   "metadata": {},
   "source": []
  }
 ],
 "metadata": {
  "kernelspec": {
   "display_name": "Python 3.10.4 64-bit",
   "language": "python",
   "name": "python3"
  },
  "language_info": {
   "name": "python",
   "version": "3.10.4"
  },
  "orig_nbformat": 4,
  "vscode": {
   "interpreter": {
    "hash": "9045ac875e47dcb748cbb8727819668cc40d80514c47a81983c55e51fb514e38"
   }
  }
 },
 "nbformat": 4,
 "nbformat_minor": 2
}
