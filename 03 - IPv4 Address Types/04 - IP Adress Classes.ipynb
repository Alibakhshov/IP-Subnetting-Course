{
 "cells": [
  {
   "cell_type": "markdown",
   "metadata": {},
   "source": [
    "<h3><strong><a  href=\"https://www.udemy.com/course/ip-subnetting/learn/lecture/6354128#overview\">IP Address Classes</a></strong></h3>"
   ]
  },
  {
   "cell_type": "markdown",
   "metadata": {},
   "source": [
    "<h5><b>What is an IP Address?</b></h5>\n",
    "\n",
    "<p>An IP (Internet Protocol) address is a numerical label assigned to the devices connected to a computer network that uses the IP for communication.\n",
    "\n",
    "IP address act as an identifier for a specific machine on a particular network. It also helps you to develop a virtual connection between a destination and a source. The IP address is also called IP number or internet address. It helps you to specify the technical format of the addressing and packets scheme. Most networks combine TCP with IP.\n",
    "\n",
    "An IP address consists of four numbers, each number contains one to three digits, with a single dot (.) separates each number or set of digits</p>\n",
    "\n",
    "\n",
    "<h5><b>How does IP address work?</b></h5>\n",
    "IP address works in an IP network like a postal address. For example, a postal address combines two addresses, address, or your area your house address.\n",
    "\n",
    "The address or your area is a group address of all houses that belong to a specific area. The house address is the unique address of your homes in that area. Here, your area is represented by a PIN code number.\n",
    "\n",
    "In this example, the network address comprises all hosts which belong to a specific network. The host address is the unique address of a particular host in that network.\n",
    "\n",
    "<h5><b>What is Classful Addressing?</b></h5>\n",
    "\n",
    "Classful addressing is a network addressing the Internet’s architecture from 1981 till Classless Inter-Domain Routing was introduced in 1993.\n",
    "\n",
    "This addressing method divides the IP address into five separate classes based on four address bits.\n",
    "\n",
    "Here, classes A, B, C offers addresses for networks of three distinct network sizes. Class D is only used for multicast, and class E reserved exclusively for experimental purposes.\n",
    "\n",
    "Let’s see each of the network classes in detail:\n",
    "\n",
    " <img src=\"../images/22.png\" alt=\"Classes\">"
   ]
  },
  {
   "cell_type": "markdown",
   "metadata": {},
   "source": [
    "<h5><b>Class A Network</b></h5>\n",
    "\n",
    "<p>This IP address class is used when there are a large number of hosts. In a Class A type of network, the first 8 bits (also called the first octet) identify the network, and the remaining have 24 bits for the host into that network.\n",
    "\n",
    "An example of a Class A address is 102.168.212.226. Here, “102” helps you identify the network and 168.212.226 identify the host.\n",
    "\n",
    "Class A addresses 127.0.0.0 to 127.255.255.255 cannot be used and is reserved for loopback and diagnostic functions.</p>\n",
    "\n",
    " <img src=\"../images/21.png\" alt=\"Class A\">"
   ]
  },
  {
   "cell_type": "markdown",
   "metadata": {},
   "source": [
    "<h5><b>Class B Network</b></h5>\n",
    "\n",
    "<p>In a B class IP address, the binary addresses start with 10. In this IP address, the class decimal number that can be between 128 to 191. The number 127 is reserved for loopback, which is used for internal testing on the local machine. The first 16 bits (known as two octets) help you identify the network. The other remaining 16 bits indicate the host within the network.\n",
    "\n",
    "An example of Class B IP address is 168.212.226.204, where *168 212* identifies the network and *226.204* helps you identify the Hut network host.</p>\n",
    "\n",
    " <img src=\"../images/23.png\" alt=\"Class B\">"
   ]
  },
  {
   "cell_type": "markdown",
   "metadata": {},
   "source": [
    "<h5><b>Class C Network</b></h5>\n",
    "\n",
    "<p> Class C is a type of IP address that is used for the small network. In this class, three octets are used to indent the network. This IP ranges between 192 to 223.\n",
    "\n",
    "In this type of network addressing method, the first two bits are set to be 1, and the third bit is set to 0, which makes the first 24 bits of the address them and the remaining bit as the host address. Mostly local area network used Class C IP address to connect with the network.\n",
    "\n",
    "Example for a Class C IP address:\n",
    "\n",
    "192.168.178.1</p>\n",
    "\n",
    " <img src=\"../images/24.png\" alt=\"Class C\">"
   ]
  },
  {
   "cell_type": "markdown",
   "metadata": {},
   "source": [
    "<h5><b>Class D Network</b></h5>\n",
    "\n",
    "<p></p>\n",
    "\n",
    "<img src=\"../images/25.png\" alt=\"Class C\">"
   ]
  },
  {
   "cell_type": "markdown",
   "metadata": {},
   "source": []
  },
  {
   "cell_type": "markdown",
   "metadata": {},
   "source": []
  }
 ],
 "metadata": {
  "kernelspec": {
   "display_name": "Python 3.10.4 64-bit",
   "language": "python",
   "name": "python3"
  },
  "language_info": {
   "name": "python",
   "version": "3.10.4"
  },
  "orig_nbformat": 4,
  "vscode": {
   "interpreter": {
    "hash": "9045ac875e47dcb748cbb8727819668cc40d80514c47a81983c55e51fb514e38"
   }
  }
 },
 "nbformat": 4,
 "nbformat_minor": 2
}
