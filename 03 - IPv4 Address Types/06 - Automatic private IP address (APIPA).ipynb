{
 "cells": [
  {
   "cell_type": "markdown",
   "metadata": {},
   "source": [
    "<h3><strong><a  href=\"https://www.udemy.com/course/ip-subnetting/learn/lecture/6295606#overview\">Automatic Private IP address range (APIPA)</a></strong></h3>"
   ]
  },
  {
   "cell_type": "markdown",
   "metadata": {},
   "source": [
    "<p>The Automattic private IP address range goes from <b>169.254.0.0</b> to <b>169.254.255.255</b>. It's technically a private IP address range. It's been reserved by the Internet authorities for private use. It's not used on the internet but this is not a range that you intentionally use. Nine times out of 10 this is a range of IP addresses that your system will automatically self-assigned itself an IP address from when it can't get one from a DHCP server.So the scenario here where this comes into play it's supposed to be in a scenario where you have some systems on a switch where is no DHCP the server and \n",
    "you want them to get an IP address so you can figure them to automatically obtain an IP. They will try to get one from a DHCP server which is not available, so it would then therefore fall back and self-assigned itself an IP address from this range. So let's say you had a switch and you plugged some systems into it. Those systems are turned on. They tried to get an IP from th DHCP, none available. They self-assigned themselves an IP from this range. They just randomly pick an IP. They all have the same network ID. They are on the same switch. They therefore can communicate with each other.\n",
    "\n",
    "Or let's say you're fixing two systems and you connect them with a crossover cable directly in a scenario like that. There is no DHCP server. Both systems will then self-assigned in an address and then they can communicate with each other using that address. In a typical environment, however when systems end up with an address it usually indicates that you have issues with your DHCP server where you might have connectivity issues to the network. It usually is the case that the systems network cable is not connecting to the network correctly.There's a fault in the cable somewhere.\n",
    "\n",
    "And as a result it can't get an IP from DHCP.\n",
    "\n",
    "So it's self-assigned itself one.\n",
    "\n",
    "So usually someone might complain hey I can't connect to the server or the Internet.\n",
    "\n",
    "The tech opens up the command prompt.\n",
    "\n",
    "They run IP config.\n",
    "\n",
    "They see there isn't a pipper IP and then they check the connectivity of the computer to the network.\n",
    "\n",
    "If a whole bunch of systems can't get IP addresses on the network well then chances are it's a problem\n",
    "\n",
    "with the DHP server.\n",
    "\n",
    "So you go in you check the device that's running the DHP service in a small network that might be the\n",
    "\n",
    "router in a larger network that might be an actual dedicated server running Windows Server 2012 for\n",
    "\n",
    "example and he checked to see what's up with the DHB server.\n",
    "\n",
    "So to summarize this is the automatic private IP address anything that starts off with 1 6 9 2 5 4 is\n",
    "\n",
    "an automatic private IP and computer systems self-assigned the snipy when they can get an IP from the\n",
    "\n",
    "DHP server.\n",
    "\n",
    "</p>"
   ]
  },
  {
   "cell_type": "markdown",
   "metadata": {},
   "source": []
  },
  {
   "cell_type": "markdown",
   "metadata": {},
   "source": []
  },
  {
   "cell_type": "markdown",
   "metadata": {},
   "source": []
  }
 ],
 "metadata": {
  "kernelspec": {
   "display_name": "Python 3.10.4 64-bit",
   "language": "python",
   "name": "python3"
  },
  "language_info": {
   "name": "python",
   "version": "3.10.4"
  },
  "orig_nbformat": 4,
  "vscode": {
   "interpreter": {
    "hash": "9045ac875e47dcb748cbb8727819668cc40d80514c47a81983c55e51fb514e38"
   }
  }
 },
 "nbformat": 4,
 "nbformat_minor": 2
}
