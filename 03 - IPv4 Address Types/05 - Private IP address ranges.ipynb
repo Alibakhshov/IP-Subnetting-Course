{
 "cells": [
  {
   "cell_type": "markdown",
   "metadata": {},
   "source": [
    "<h3><strong><a  href=\"https://www.udemy.com/course/ip-subnetting/learn/lecture/6295034#overview\">Private IP Address ranges</a></strong></h3>"
   ]
  },
  {
   "cell_type": "markdown",
   "metadata": {},
   "source": [
    "<p>Now we will discuss the class A range starting from <b>10.0.0.0 - 10.255.255.255</b>\n",
    "\n",
    "It is Class A because it starts with 10.\n",
    "\n",
    "There is only one network ID that is 10 and the last three octets or the last 24 bits are host ID bits. With 24 host ID bits you can get 16,777,214 IP addresses.</p>\n",
    "\n",
    "<img src=\"../images/27.png\">"
   ]
  },
  {
   "cell_type": "markdown",
   "metadata": {},
   "source": [
    "<p>The next range is the class-B range from <b>172.16.0.0</b> to <b>172.31.255.255</b>\n",
    "\n",
    "Because this is class B it gets a default prefix length of slash 16 which means that the first two octets are network ID. If you looked at it carefully. You actually have a range of network IDs from <b>172.16</b> to <b>172.31</b>. Ther is actually 16 network IDs in that range. I can assign <b>172.16</b> to one network and then I have <b>172.17</b> which I can assign and then I have <b>172.18</b>, <b>172.19</b>, <b>172.20</b> all the way to <b>172.31</b>. So I have 16 network IDs in this range, each network ID has the last two octets for host ID. So I have 16 bits for host ID. Therefore each one of these network IDS will give me 65534 IP addresses.</p>\n",
    "\n",
    "<img src=\"../images/28.png\" alt=\"Class B\">"
   ]
  },
  {
   "cell_type": "markdown",
   "metadata": {},
   "source": [
    "<img src=\"../images/29.png\" alt=\"Class B\">"
   ]
  },
  {
   "cell_type": "markdown",
   "metadata": {},
   "source": []
  },
  {
   "cell_type": "markdown",
   "metadata": {},
   "source": []
  },
  {
   "cell_type": "markdown",
   "metadata": {},
   "source": []
  },
  {
   "cell_type": "markdown",
   "metadata": {},
   "source": []
  }
 ],
 "metadata": {
  "kernelspec": {
   "display_name": "Python 3.10.4 64-bit",
   "language": "python",
   "name": "python3"
  },
  "language_info": {
   "name": "python",
   "version": "3.10.4"
  },
  "orig_nbformat": 4,
  "vscode": {
   "interpreter": {
    "hash": "9045ac875e47dcb748cbb8727819668cc40d80514c47a81983c55e51fb514e38"
   }
  }
 },
 "nbformat": 4,
 "nbformat_minor": 2
}
