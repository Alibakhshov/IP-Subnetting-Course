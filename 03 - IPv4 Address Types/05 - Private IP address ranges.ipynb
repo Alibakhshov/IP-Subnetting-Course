{
 "cells": [
  {
   "cell_type": "markdown",
   "metadata": {},
   "source": [
    "<h3><strong><a  href=\"https://www.udemy.com/course/ip-subnetting/learn/lecture/6295034#overview\">Private IP Address ranges</a></strong></h3>"
   ]
  },
  {
   "cell_type": "markdown",
   "metadata": {},
   "source": [
    "<p>Now we will discuss the class A range starting from <b>10.0.0.0 - 10.255.255.255</b>\n",
    "\n",
    "It is Class A because it starts with 10.\n",
    "\n",
    "There is only one network ID that is 10 and the last three octets or the last 24 bits are host ID bits. With 24 host ID bits you can get 16,777,214 IP addresses.</p>\n",
    "\n",
    "<img src=\"../images/27.png\">"
   ]
  },
  {
   "cell_type": "markdown",
   "metadata": {},
   "source": [
    "<p>The next range is the class-B range from <b>172.16.0.0</b> to <b>172.31.255.255</b>\n",
    "\n",
    "0 to 172 $31.\n",
    "\n",
    "2 5 5 2 5 5 what I would like to point out here is that because this is class B it gets a default prefix\n",
    "\n",
    "length of slash 16 which means that the first two octets are network ID.\n",
    "\n",
    "If you looked at it carefully.\n",
    "\n",
    "You actually have a range of network IDs from 172 dots 16 to 172 dots 31 you actually have 16 network\n",
    "\n",
    "IDs in that range.\n",
    "\n",
    "I can assign 172 dots 16 to 1 network and then I have 172 not 17 which I can assign and then I have\n",
    "\n",
    "172 not 18 172 not 19 172 not 20.\n",
    "\n",
    "All the way to 172 not 31.\n",
    "\n",
    "So I have 16 network IDs in this range each network ID has the last two octets for host ID.\n",
    "\n",
    "So I have 16 bits for host ID.\n",
    "\n",
    "Therefore each one of these network IDS will give me 65000 534 IPs.\n",
    "\n",
    "So to summarize the range here is from 172 dots 16 to 170 2.0 31.\n",
    "\n",
    "I have 16 network IDs each of which giving me 65000 534 IPs</p>"
   ]
  },
  {
   "cell_type": "markdown",
   "metadata": {},
   "source": []
  },
  {
   "cell_type": "markdown",
   "metadata": {},
   "source": []
  },
  {
   "cell_type": "markdown",
   "metadata": {},
   "source": []
  },
  {
   "cell_type": "markdown",
   "metadata": {},
   "source": []
  },
  {
   "cell_type": "markdown",
   "metadata": {},
   "source": []
  }
 ],
 "metadata": {
  "kernelspec": {
   "display_name": "Python 3.10.4 64-bit",
   "language": "python",
   "name": "python3"
  },
  "language_info": {
   "name": "python",
   "version": "3.10.4"
  },
  "orig_nbformat": 4,
  "vscode": {
   "interpreter": {
    "hash": "9045ac875e47dcb748cbb8727819668cc40d80514c47a81983c55e51fb514e38"
   }
  }
 },
 "nbformat": 4,
 "nbformat_minor": 2
}
