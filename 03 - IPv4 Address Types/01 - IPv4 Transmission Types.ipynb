{
 "cells": [
  {
   "cell_type": "code",
   "execution_count": null,
   "metadata": {},
   "outputs": [],
   "source": [
    "<h3><strong><a  href=\"https://www.udemy.com/course/ip-subnetting/learn/lecture/6294996#overview\">IPv4 Transmission types</a></strong></h3>"
   ]
  }
 ],
 "metadata": {
  "kernelspec": {
   "display_name": "Python 3.10.4 64-bit",
   "language": "python",
   "name": "python3"
  },
  "language_info": {
   "name": "python",
   "version": "3.10.4"
  },
  "orig_nbformat": 4,
  "vscode": {
   "interpreter": {
    "hash": "9045ac875e47dcb748cbb8727819668cc40d80514c47a81983c55e51fb514e38"
   }
  }
 },
 "nbformat": 4,
 "nbformat_minor": 2
}
