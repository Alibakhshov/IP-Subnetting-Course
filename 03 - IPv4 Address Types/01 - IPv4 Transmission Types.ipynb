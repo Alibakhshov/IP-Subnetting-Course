{
 "cells": [
  {
   "cell_type": "markdown",
   "metadata": {},
   "source": [
    "<h3><strong><a  href=\"https://www.udemy.com/course/ip-subnetting/learn/lecture/6294996#overview\">IPv4 Transmission types</a></strong></h3>"
   ]
  },
  {
   "cell_type": "markdown",
   "metadata": {},
   "source": [
    "<p> On an IPv4 network, a host can communicate with other devices on the network by using the following transmission types:</p>\n",
    "\n",
    "<p><b>Unicast:</b> The unicast transmission type is where one host communicates with another host directly, such as a client and server, or what is better referred to as a <b>peer-to-peer</b> network. This is a one-to-one transmission:</p>\n",
    "\n",
    "<img src=\"../images/9.png\" alt=\"Unicast\">"
   ]
  },
  {
   "cell_type": "markdown",
   "metadata": {},
   "source": [
    "<p><b>Multicast:</b> In a multicast transmission, a single host communicates with many other hosts on the network, but not all of them. This reduces the traffic on the network by sending the message to only those who need it. The devices that participate in multicast transmissions are called <b>multicast groups.</b> As mentioned earlier, the IPv4 Class D network range represents the multicast addresses <b>224.0.0.0</b> to <b>239.255.255.255:</b></p>\n",
    "\n",
    "<img src=\"../images/10.png\" alt=\"Multicast\">"
   ]
  },
  {
   "cell_type": "markdown",
   "metadata": {},
   "source": [
    "<p><b>Broadcast</b> Broadcasting is the simultaneous transmission of the same message to multiple recipients. In networking, broadcasting occurs when a transmitted data packet is received by all network devices.\n",
    "\n",
    "Security issues may arise during broadcasting and lead to data loss if a network is attacked by intruders. In non-networking or electronic broadcasting, the term broadcasting denotes the transfer of audio and video data between nodes and devices.\n",
    "\n",
    "<b>Techopedia Explains Broadcasting</b>\n",
    "\n",
    "Broadcasting may occur in either of the following ways:\n",
    "A high-level program operation, such as broadcasting the Message Passing Interface (MPI)\n",
    "A low-level networking operation, such as broadcasting via Ethernet.\n",
    "Broadcasting is basically limited to local area network (LAN) systems. In a LAN, however, its performance impact is more substantial in a wide area network (WAN).\n",
    "\n",
    "Internet Protocol Version 6 (IPv6) uses multicasting, rather than broadcasting, to avoid network interruption when services are required by only one or two nodes. During data transmission, IPv6 transmits data directly to devices and does not disturb network device traffic.</p>"
   ]
  }
 ],
 "metadata": {
  "kernelspec": {
   "display_name": "Python 3.10.4 64-bit",
   "language": "python",
   "name": "python3"
  },
  "language_info": {
   "name": "python",
   "version": "3.10.4"
  },
  "orig_nbformat": 4,
  "vscode": {
   "interpreter": {
    "hash": "9045ac875e47dcb748cbb8727819668cc40d80514c47a81983c55e51fb514e38"
   }
  }
 },
 "nbformat": 4,
 "nbformat_minor": 2
}
