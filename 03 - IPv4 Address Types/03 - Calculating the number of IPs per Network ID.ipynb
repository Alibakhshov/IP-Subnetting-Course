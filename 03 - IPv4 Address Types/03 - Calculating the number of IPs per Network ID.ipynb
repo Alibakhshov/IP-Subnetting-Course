{
 "cells": [
  {
   "cell_type": "markdown",
   "metadata": {},
   "source": [
    "<h3><strong><a  href=\"https://www.udemy.com/course/ip-subnetting/learn/lecture/6295004#overview\">Calculating the number of IPs per Network</a></strong></h3>"
   ]
  },
  {
   "cell_type": "markdown",
   "metadata": {},
   "source": [
    "<p> How many IP addresses can I get out of the network below:\n",
    "\n",
    "<b>192.168.5.0/24</b>\n",
    "\n",
    "<img src=\"../images/16.png\" alt=\"Number line\">\n",
    "\n",
    "Well if the prefix length is <b>/24</b> that means the first three octets are <b>network ID</b> and therefore will not change. These bits will remain constant and for each host on the network the <b>host ID</b> will be different whereas the <b>network ID</b> will remain the same. Therefore, how many different IP addresses I can get for this network ID entirely depends on how many different combinations I could get of these host bits.\n",
    "\n",
    "Let's look at it like a number line.\n",
    "\n",
    "<img src=\"../images/17.png\" alt=\"Number line\">\n",
    "\n",
    "Let's say this represents the range of IP addresses. The first type at the head of the range is \n",
    "\n",
    "<b>192.168.5.0/24</b>\n",
    "\n",
    "Now we said this is the <b>network ID</b>.\n",
    "\n",
    "And as a result you can't assign that to a system but it is the first IP at the head of the range.\n",
    "\n",
    "The last one is \n",
    "\n",
    "<b>192.168.5.0/24</b>\n",
    "\n",
    "Again this one is the direct to broadcast and cannot be assigned to a system but it is the absolute last.\n",
    "\n",
    "<b>So what are my valid IPs?</b>\n",
    "\n",
    "Well it's everything in between these two IPs starting from <b>192.168.5.0/24</b> to <b>192.168.5.0/24</b>.\n",
    "\n",
    "<b>How do I figure out how many IP addresses I have here?</b>\n",
    "\n",
    "Well we can use the <b>permutations</b>v formula: 2 to the power of the number of host ID bits will give me how many different combinations I could get of those bits. So for example if I said two to the power of five two to the power of five will tell me how many different combinations I could get five bits. So two to the power of the number of host ID bits will give me how many IP addresses I have in this range including the network ID and the directed broadcast IP. Those therefore are not valid IPs so I have to subtract those two.\n",
    "\n",
    "Let's rewrite this formula.</p>"
   ]
  },
  {
   "cell_type": "markdown",
   "metadata": {},
   "source": [
    "<p>To calculate the number of IP addresses you have for a given network ID you take two to the power of <b>h,</b> where <b>h</b> represents the number of host ID bits that will give you the entire range and then from that you subtract two. These two that you are subtracting are the <b>network ID</b> and the <b>directed broadcast IP.</b>\n",
    "\n",
    "Now how do we work out the number of host ID bits coming makeover here? We said the number of host ID bits is eight. How did I get that?\n",
    "\n",
    "So  we can generalize that by saying the complete formula now is 2 to the power of 32 minus the prefix length minus 2.</p>\n",
    "\n",
    "<img src=\"../images/18.png\" alt=\"Formula for calculating the number of IPs per Network id\">"
   ]
  },
  {
   "cell_type": "markdown",
   "metadata": {},
   "source": [
    "<h3><strong>Worked Example:</strong></h3>\n",
    "\n",
    "<p>Let's say we had a network idea of:\n",
    "\n",
    "<b>172.18.32.0/19</b>\n",
    "\n",
    "How many IP addresses can we get with this network ID?\n",
    "\n",
    "The only relevant piece of information here is the prefix length. Remember all we really need to know is how many bits do we have in host ID. So with this prefix length what we do is we take to the IP address has 32 bits in it we minus 19 the prefix length because 19 is the number of network ID bits that are in the IP address.\n",
    "\n",
    "We have 13 host bits here two to the power of 13 will give us all of the IP addresses that we have in this network.One of IP adresses will be all zeros combination  and the other will be all ones. Remember those are not valid IP addresses. They have special meaning. One is the <b>network ID</b> and the other is the direct to <b>broadcast IP.</b>. So we have to subtract those two.</p>\n",
    "\n",
    "<img src=\"../images/19.png\" alt=\"Worked example picture\">\n",
    "\n"
   ]
  },
  {
   "cell_type": "markdown",
   "metadata": {},
   "source": [
    "<h3><strong>Example 2:</strong></h3>\n",
    "\n",
    "<p> This time we're using a subnet mask of\n",
    "\n",
    "<b>255.255.255.192</b>\n",
    "\n",
    "The first thing we have to do is convert this to a prefix length.\n",
    "\n",
    "What is this as a prefix length while we have 8 1 here 8 ones 8 ones 192 in binary is 1 1 and 6 zeros.\n",
    "\n",
    "So we therefore have 2 1 here.\n",
    "\n",
    "So 8 plus 8 is 16 plus 8 is 24 25 26 as a prefix.\n",
    "\n",
    "This is slash 26.\n",
    "\n",
    "So this network ID the first 26 bits is network ID to calculate the number of IP addresses.\n",
    "\n",
    "Therefore it's two to the power of thirty two.\n",
    "\n",
    "The IP address has 32 bits minus 26 the prefix length.\n",
    "\n",
    "26 of these bits is network ID and then all of that we're subtracting two and the two that we're subtracting\n",
    "\n",
    "is the all zeros commination where host ID is all zeros.\n",
    "\n",
    "That's the network ID and where host ID is all ones.\n",
    "\n",
    "The directed broadcast IP.\n",
    "\n",
    "This therefore simplifies to two to the power of six minus two to two the power of six is 64 minus two\n",
    "\n",
    "is therefore 62 we will have sixty two IP addresses.\n",
    "\n",
    "If we use this subnet mask of 2 5 5 5 5 2 5 5 192.</p>"
   ]
  },
  {
   "cell_type": "markdown",
   "metadata": {},
   "source": []
  },
  {
   "cell_type": "markdown",
   "metadata": {},
   "source": []
  },
  {
   "cell_type": "markdown",
   "metadata": {},
   "source": []
  },
  {
   "cell_type": "markdown",
   "metadata": {},
   "source": []
  }
 ],
 "metadata": {
  "kernelspec": {
   "display_name": "Python 3.10.4 64-bit",
   "language": "python",
   "name": "python3"
  },
  "language_info": {
   "name": "python",
   "version": "3.10.4"
  },
  "orig_nbformat": 4,
  "vscode": {
   "interpreter": {
    "hash": "9045ac875e47dcb748cbb8727819668cc40d80514c47a81983c55e51fb514e38"
   }
  }
 },
 "nbformat": 4,
 "nbformat_minor": 2
}
