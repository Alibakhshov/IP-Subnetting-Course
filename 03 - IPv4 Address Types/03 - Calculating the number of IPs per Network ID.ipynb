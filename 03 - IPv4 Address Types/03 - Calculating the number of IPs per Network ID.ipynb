{
 "cells": [
  {
   "cell_type": "markdown",
   "metadata": {},
   "source": [
    "<h3><strong><a  href=\"https://www.udemy.com/course/ip-subnetting/learn/lecture/6295004#overview\">Calculating the number of IPs per Network</a></strong></h3>"
   ]
  },
  {
   "cell_type": "markdown",
   "metadata": {},
   "source": [
    "<p> How many IP addresses can I get out of the network below:\n",
    "\n",
    "<b>192.168.5.0/24</b>\n",
    "\n",
    "<img src=\"../images/16.png\" alt=\"Number line\">\n",
    "\n",
    "Well if the prefix length is <b>/24</b> that means the first three octets are <b>network ID</b> and therefore will not change. These bits will remain constant and for each host on the network the <b>host ID</b> will be different whereas the <b>network ID</b> will remain the same. Therefore, how many different IP addresses I can get for this network ID entirely depends on how many different combinations I could get of these host bits.\n",
    "\n",
    "Let's look at it like a number line.\n",
    "\n",
    "<img src=\"../images/17.png\" alt=\"Number line\">\n",
    "\n",
    "Let's say this represents the range of IP addresses. The first type at the head of the range is \n",
    "\n",
    "<b>192.168.5.0/24</b>\n",
    "\n",
    "Now we said this is the <b>network ID</b>.\n",
    "\n",
    "And as a result you can't assign that to a system but it is the first IP at the head of the range.\n",
    "\n",
    "The last one is \n",
    "\n",
    "<b>192.168.5.0/24</b>\n",
    "\n",
    "Again this one is the direct to broadcast and cannot be assigned to a system but it is the absolute last.\n",
    "\n",
    "<b>So what are my valid IPs?</b>\n",
    "\n",
    "Well it's everything in between these two IPs starting from <b>192.168.5.0/24</b> to <b>192.168.5.0/24</b>.\n",
    "\n",
    "<b>How do I figure out how many IP addresses I have here?</b>\n",
    "\n",
    "Well we can use the <b>permutations</b>v formula: 2 to the power of the number of host ID bits will give me how many different combinations I could get of those bits. So for example if I said two to the power of five two to the power of five will tell me how many different combinations I could get five bits. So two to the power of the number of host ID bits will give me how many IP addresses I have in this range including the network ID and the directed broadcast IP. Those therefore are not valid IPs so I have to subtract those two.\n",
    "\n",
    "Let's rewrite this formula.</p>"
   ]
  },
  {
   "cell_type": "markdown",
   "metadata": {},
   "source": [
    "<p>To calculate the number of IP addresses you have for a given network ID you take two to the power of <b>h,</b> where <b>h</b> represents the number of host ID bits that will give you the entire range and then from that you subtract two. These two that you are subtracting are the <b>network ID</b> and the <b>directed broadcast IP.</b>\n",
    "\n",
    "Now how do we work out the number of host ID bits coming makeover here? We said the number of host ID bits is eight. How did I get that?\n",
    "\n",
    "So  we can generalize that by saying the complete formula now is 2 to the power of 32 minus the prefix length minus 2.</p>\n",
    "\n",
    "<img src=\"../images/18.png\" alt=\"Formula for calculating the number of IPs per Network id\">"
   ]
  },
  {
   "cell_type": "markdown",
   "metadata": {},
   "source": [
    "<h3><strong>Worked Example:</strong></h3>\n",
    "\n",
    "<p>Let's say we had a network idea of:\n",
    "\n",
    "<b>172.18.32.0/19</b>\n",
    "\n",
    "How many IP addresses can we get with this network ID Well like I mentioned earlier we don't actually\n",
    "\n",
    "need to know the network ID.\n",
    "\n",
    "The only relevant piece of information here is the prefix length.\n",
    "\n",
    "Remember all we really need to know is how many bits do we have in host ID.\n",
    "\n",
    "So with this prefix length what we do is we take to the IP address has 32 bits in it we minus 19 the\n",
    "\n",
    "prefix length because 19 is the number of network ID bits that are in the IP address.\n",
    "\n",
    "This is the network mask\n",
    "\n",
    "32 minus 19 is 13.\n",
    "\n",
    "So this all works out to two to the power of 13.\n",
    "\n",
    "We have 13 host bits here two to the power of 13 will give us all of the IP addresses that we have in\n",
    "\n",
    "this network.\n",
    "\n",
    "ID one of them will be the all zeros combination where host ideas all zeros and the other one will be\n",
    "\n",
    "where host ID is all ones.\n",
    "\n",
    "Remember those are not valid IP addresses.\n",
    "\n",
    "They have special meaning.\n",
    "\n",
    "One is the network ID and the other is the direct to broadcast IP.\n",
    "\n",
    "So we have to subtract those two.\n",
    "\n",
    "And that's why we subtract two so two to the power 13 minus two is our formula.\n",
    "\n",
    "Let us bring the calculator into this.\n",
    "\n",
    "Remember we have to put the calculator in scientific mode and then we enter to x to the Y and we enter\n",
    "\n",
    "the exponent of 13.\n",
    "\n",
    "So this is 2 to the power of 13 Begin equal it equals eight thousand one hundred ninety two.\n",
    "\n",
    "And then of course we minus two from this.\n",
    "\n",
    "And the answer is eight thousand one hundred and ninety eight thousand one hundred and ninety</p>\n",
    "\n"
   ]
  },
  {
   "cell_type": "markdown",
   "metadata": {},
   "source": []
  },
  {
   "cell_type": "markdown",
   "metadata": {},
   "source": []
  },
  {
   "cell_type": "markdown",
   "metadata": {},
   "source": []
  },
  {
   "cell_type": "markdown",
   "metadata": {},
   "source": []
  },
  {
   "cell_type": "markdown",
   "metadata": {},
   "source": []
  }
 ],
 "metadata": {
  "kernelspec": {
   "display_name": "Python 3.10.4 64-bit",
   "language": "python",
   "name": "python3"
  },
  "language_info": {
   "name": "python",
   "version": "3.10.4"
  },
  "orig_nbformat": 4,
  "vscode": {
   "interpreter": {
    "hash": "9045ac875e47dcb748cbb8727819668cc40d80514c47a81983c55e51fb514e38"
   }
  }
 },
 "nbformat": 4,
 "nbformat_minor": 2
}
