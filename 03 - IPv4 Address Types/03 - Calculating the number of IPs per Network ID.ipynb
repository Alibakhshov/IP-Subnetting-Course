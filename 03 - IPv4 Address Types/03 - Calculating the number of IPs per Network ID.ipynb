{
 "cells": [
  {
   "cell_type": "markdown",
   "metadata": {},
   "source": [
    "<h3><strong><a  href=\"https://www.udemy.com/course/ip-subnetting/learn/lecture/6295004#overview\">Calculating the number of IPs per Network</a></strong></h3>"
   ]
  },
  {
   "cell_type": "markdown",
   "metadata": {},
   "source": [
    "<p> How many IP addresses can I get out of the network below:\n",
    "\n",
    "<b></b>\n",
    "\n",
    "Well if the prefix length is 24 that means the first three octets is network ID and therefore will not\n",
    "\n",
    "change.\n",
    "\n",
    "These bits will remain constant and for each host on the network the host ID will be different whereas\n",
    "\n",
    "the network ID will remain the same.\n",
    "\n",
    "Therefore how many different IP addresses I can get for this network ID entirely depends on how many\n",
    "\n",
    "different combinations I could get of these host bits.\n",
    "\n",
    "Let's look at it like a number line.\n",
    "\n",
    "Let's say this represents the range FIP addresses the first type at the head of the range is 1 9 2 1\n",
    "\n",
    "6 8 5 0.\n",
    "\n",
    "Slashed 24.\n",
    "\n",
    "Now we said this is the network ID.\n",
    "\n",
    "And as a result you can't assign that to a system but it is the first IP at the head of the range.\n",
    "\n",
    "The last one is 1 9 2 1 6 8 5 to 55 slash 24.\n",
    "\n",
    "Again this one is the direct to broadcast and can be assigned to a system but it is the absolute last.\n",
    "\n",
    "So what are my valid IPs.\n",
    "\n",
    "Well it's everything in between these two IPs.\n",
    "\n",
    "How do I figure out how many IP addresses I have here.\n",
    "\n",
    "Well we can use the permutations Formula 2 to the power of the number of host ID bits\n",
    "\n",
    "will give me how many different combinations I could get of those bits.\n",
    "\n",
    "So for example if I said two to the power of five two to the power of five will tell me how many different\n",
    "\n",
    "combinations I could get five bits.\n",
    "\n",
    "So two to the power of the number of host ID bits will give me how many IP addresses I have in this\n",
    "\n",
    "range including the network ID and the directed broadcast IP.\n",
    "\n",
    "Those therefore are not valid IPs so I have to subtract those two.\n",
    "\n",
    "Let's rewrite this formula.</p>"
   ]
  },
  {
   "cell_type": "markdown",
   "metadata": {},
   "source": []
  },
  {
   "cell_type": "markdown",
   "metadata": {},
   "source": []
  },
  {
   "cell_type": "markdown",
   "metadata": {},
   "source": []
  },
  {
   "cell_type": "markdown",
   "metadata": {},
   "source": []
  },
  {
   "cell_type": "markdown",
   "metadata": {},
   "source": []
  },
  {
   "cell_type": "markdown",
   "metadata": {},
   "source": []
  },
  {
   "cell_type": "markdown",
   "metadata": {},
   "source": []
  }
 ],
 "metadata": {
  "kernelspec": {
   "display_name": "Python 3.10.4 64-bit",
   "language": "python",
   "name": "python3"
  },
  "language_info": {
   "name": "python",
   "version": "3.10.4"
  },
  "orig_nbformat": 4,
  "vscode": {
   "interpreter": {
    "hash": "9045ac875e47dcb748cbb8727819668cc40d80514c47a81983c55e51fb514e38"
   }
  }
 },
 "nbformat": 4,
 "nbformat_minor": 2
}
