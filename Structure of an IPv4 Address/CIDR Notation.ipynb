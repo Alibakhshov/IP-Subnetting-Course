{
 "cells": [
  {
   "cell_type": "markdown",
   "metadata": {},
   "source": [
    "<h3><strong><a  href=\"https://www.youtube.com/watch?v=POPoAjWFkGg\">CIDR (Classless Inter-Domain Routing) notation</a></strong></h3>"
   ]
  },
  {
   "cell_type": "markdown",
   "metadata": {},
   "source": [
    "<p><b>CIDR notation</b> (Classless Inter-Domain Routing) is an alternate method of representing a subnet mask. It is simply a count of the number of network bits (bits that are set to 1) in the subnet mask. For example, we can express the idea that the IP address 192.168.0.1 is associated with the netmask 255.255.255.0 by using the CIDR notation of 192.168.0.1/24, where 24 represents the number of network bits in the IP address (IPv4 address has 32 bits, so the network can be between 0 and 32).</p>\n",
    "\n",
    "<p> <b>CIDR notation</b>\n",
    "\n",
    "IP sets aside some addresses for specific purposes. For example, several ranges -- such as the Class B 192.168.0.0 -- are set aside as nonroutable and are used to define a private network. Most home Broadband routers will assign addresses from the 192.168 network for systems inside the home. IP also doesn't allow host identifiers of all zeros and reserves the all-ones identifier to serve as a broadcast address -- packets sent to that address will go to all hosts on the network.\n",
    "\n",
    "Originally, IP addresses were assigned in four major address classes: A through C. Each class allocated one portion of a 32-bit IP address to identify the gateway router for that network -- the first 8 bits for Class A, the first 16 for Class B, the first 24 for Class C. Bits not used for the network identifier were available for specifying host identifiers for systems on that network.\n",
    "\n",
    "It helps to think of the binary representation of the network addresses. For IPv4, the 32-bit address is broken into four groups of 8 bits each -- called a dotted quad of numbers. A dotted quad would look like this in decimal form, 192.168.0.0, and like this in binary form, 11000000.10101000.00000000.00000000.\n",
    "\n",
    "An IP address can be parsed into its network identifier and host identifier by applying a network mask to the address -- another dot address, with ones wherever a bit is used to indicate the network portion of the address. For example, a classic Class B would be written as 255.255.0.0.\n",
    "\n",
    "If a network is further broken up into subnets, we speak of the subnet mask, which just adds bits to the network mask. If we break 192.168.0.0 into two subnets, the subnet mask gets one bit longer and could be indicated with 255.255.128.0.\n",
    "\n",
    "CIDR notation compactly indicates the network mask for an address and adds on the total number of bits in the entire address using slash notation. For example, 192.168.129.23/17 indicates a 17-bit network mask. Internet users can refer to a /17 network to indicate the network's size without specifying an actual network mask.\n",
    "\n",
    "<b>How does CIDR work?</b>\n",
    "\n",
    "Routers using CIDR use a destination address to route a packet toward a gateway, which can then take care of further unpacking the address based on its understanding of the details of the supernetwork -- also called the supernet. If a router knows routes for different parts of the same supernet, then it will use the most specific one -- or the one with the longest network address.\n",
    "\n",
    "In IPv6, a CIDR block always gets 64 bits for specifying network addresses.\n",
    "\n",
    "<b>Advantages of CIDR</b>\n",
    "\n",
    "CIDR reduced the problem of wasted IPv4 address space without causing an explosion in the number of entries in a routing table. CIDR also lets one routing table entry for a supernet represent an aggregation of networks -- about which only a router closer to the destination actually needs to know the details.\n",
    "\n",
    "CIDR is now the routing system on the internet's backbone network, and every ISP uses it. It is supported by the Border Gateway Protocol (BGP), the prevailing exterior (interdomain) gateway protocol and the Open Shortest Path First (OSPF) gateway protocol.\n",
    "\n",
    "Older gateway protocols, such as Exterior Gateway Protocol and Routing Information Protocol, do not support CIDR.\n",
    "\n",
    "<b>When to use supernetting</b>\n",
    "\n",
    "An organization or service provider managing addressing for a large number of hosts or networks should use supernetting -- possibly in combination with network address translation (NAT) -- to partition out addresses and optimize traffic efficiency.\n",
    "\n",
    "<b>For example,</b> the supernetting process might want to break an internal network into subnets for administrative purposes so each office could manage its own address space. Or it might need to cobble together address space from multiple CIDR blocks of different sizes from its ISP.\n",
    "\n",
    "<b>Supernetting example</b>\n",
    "\n",
    "Consider an ISP providing services to homes. It might create a /31 network for every home, each having only one assignable host identifier. It might create a /16 supernet of all the addresses, broken out further into regional /24 supernets. Routers outside the ISP infrastructure use /16 to send packets in; the ISP uses the /24s to push packets toward the appropriate regional routers, which use the /31s to reach the home networks.</p>"
   ]
  },
  {
   "cell_type": "markdown",
   "metadata": {},
   "source": []
  },
  {
   "cell_type": "markdown",
   "metadata": {},
   "source": []
  },
  {
   "cell_type": "markdown",
   "metadata": {},
   "source": []
  },
  {
   "cell_type": "markdown",
   "metadata": {},
   "source": []
  }
 ],
 "metadata": {
  "kernelspec": {
   "display_name": "Python 3.10.4 64-bit",
   "language": "python",
   "name": "python3"
  },
  "language_info": {
   "codemirror_mode": {
    "name": "ipython",
    "version": 3
   },
   "file_extension": ".py",
   "mimetype": "text/x-python",
   "name": "python",
   "nbconvert_exporter": "python",
   "pygments_lexer": "ipython3",
   "version": "3.10.4"
  },
  "orig_nbformat": 4,
  "vscode": {
   "interpreter": {
    "hash": "9045ac875e47dcb748cbb8727819668cc40d80514c47a81983c55e51fb514e38"
   }
  }
 },
 "nbformat": 4,
 "nbformat_minor": 2
}
