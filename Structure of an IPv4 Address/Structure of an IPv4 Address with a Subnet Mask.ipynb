{
 "cells": [
  {
   "cell_type": "markdown",
   "metadata": {},
   "source": [
    "<h3><strong><a  href=\"https://www.youtube.com/watch?v=s_Ntt6eTn94\">The Structure of an IPv4 Address with a Subnet Mask</a></strong></h3>"
   ]
  },
  {
   "cell_type": "markdown",
   "metadata": {},
   "source": [
    "<p>Let's take a sample IP address of: \n",
    "\n",
    "<b>192.168.1.5</b>\n",
    "\n",
    "Now this  IP address is actually divided into two parts. It's divided into <b>Network ID</b> and <b>Host ID</b>. Now which number is which? Well, we need a second number to do this. We need a subnet mask.\n",
    "\n",
    "Let's say we had a subnet mask of: \n",
    "\n",
    "<b>255.255.255.0</b>\n",
    "\n",
    "Now, we will convert this whole subnet mask into binary. A subnet mask of <b>255.255.255.0</b> in binary is equal to:\n",
    "\n",
    "<b>11111111.11111111.11111111.00000000</b>\n",
    "\n",
    "An IP Address of <b>192.168.1.5</b> in binary is equal to:\n",
    "\n",
    "<b>11000000.10101000.00000001.00000101</b>\n",
    "\n",
    "The first eight ones in a subnet mask will cover the first eight digit of an IP address. Another eight ones will cover the second eight digit of an IP address. The third one does the same. In the fourth one, the eight zero's will not cover, that's why it will be the <b>Host ID</b>. \n",
    "\n",
    "<b>NOTE:</b> The bits that are covered Make up your <b>Network ID</b> and the bits that are left uncovered make up your <b>Host ID.</b>\n",
    "\n",
    "Now the results are:\n",
    "\n",
    "<b>Network ID: 192.168.1</b>\n",
    " <b>Host ID: .5</b>\n",
    "</p>"
   ]
  },
  {
   "cell_type": "markdown",
   "metadata": {},
   "source": []
  },
  {
   "cell_type": "markdown",
   "metadata": {},
   "source": []
  },
  {
   "cell_type": "markdown",
   "metadata": {},
   "source": []
  },
  {
   "cell_type": "markdown",
   "metadata": {},
   "source": []
  },
  {
   "cell_type": "markdown",
   "metadata": {},
   "source": []
  },
  {
   "cell_type": "markdown",
   "metadata": {},
   "source": []
  }
 ],
 "metadata": {
  "kernelspec": {
   "display_name": "Python 3.10.4 64-bit",
   "language": "python",
   "name": "python3"
  },
  "language_info": {
   "name": "python",
   "version": "3.10.4"
  },
  "orig_nbformat": 4,
  "vscode": {
   "interpreter": {
    "hash": "9045ac875e47dcb748cbb8727819668cc40d80514c47a81983c55e51fb514e38"
   }
  }
 },
 "nbformat": 4,
 "nbformat_minor": 2
}
