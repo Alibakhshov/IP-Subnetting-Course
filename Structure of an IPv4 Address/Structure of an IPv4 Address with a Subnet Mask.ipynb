{
 "cells": [
  {
   "cell_type": "markdown",
   "metadata": {},
   "source": [
    "<h3><strong><a  href=\"https://www.youtube.com/watch?v=s_Ntt6eTn94\">The Structure of an IPv4 Address with a Subnet Mask</a></strong></h3>"
   ]
  },
  {
   "cell_type": "markdown",
   "metadata": {},
   "source": [
    "<p>Let's take a sample IP address of <b>192.168.1.5</b>\n",
    "\n",
    "Now this  IP address is actually divided into two parts. It's divided into <b>Network ID</b> and <b>Host ID</b>. Now which number is which? Well, we need a second number to do this. We need a subnet mask.\n",
    "Let's say we had a subnet mask of <b>255.255.255.0</b>\n",
    "\n",
    "The what is this doing.\n",
    "\n",
    "Well two five five is eight ones.\n",
    "\n",
    "So we have 8 1 0 1 2 3 4 5 6 7 8.\n",
    "\n",
    "And what I'll do is just convert this whole subnet mask into binary 1 2 three four five six seven eight.\n",
    "\n",
    "One two three 5 6 7 8 1 2 3 4 5 6 7 8 1 9 2 168 1.5 in binary 192 in binary is 1 1 0 0 0 0 0 0 1 2 3\n",
    "\n",
    "4 5 6 7 8 168 and binary is 1 0 1 0 1 0 0 0 1 in binary is 1 2 3 4 5 6 7 heroes and 0 1.\n",
    "\n",
    "Because remember the last column is one and then five in binary I'll start writing this from this site\n",
    "\n",
    "here.\n",
    "\n",
    "It's one that column is one ero.\n",
    "\n",
    "This column is to\n",
    "\n",
    "this column is for four plus one is Phife.\n",
    "\n",
    "And then we have to fill this out a bit.\n",
    "\n",
    "So this is one two three four five six seven.\n",
    "\n",
    "So one night two 168.\n",
    "\n",
    "This is one two is 168.\n",
    "\n",
    "This is one.\n",
    "\n",
    "And this is Fyffe the subnet mask.\n",
    "\n",
    "If you think about the name it's a mask.\n",
    "\n",
    "What it's doing.\n",
    "\n",
    "If you can imagine this is a picket fence and you see a fence.\n",
    "\n",
    "Can you see these are the pickets in the fence.\n",
    "\n",
    "Right.\n",
    "\n",
    "So you got some grass there's grassy knoll right.\n",
    "\n",
    "And those the pickets and the fence.\n",
    "\n",
    "And then over here.\n",
    "\n",
    "I guess someone kicked down the fence if we could imagine that this picket fence were superimposed onto\n",
    "\n",
    "this IP address.\n",
    "\n",
    "These ones here these eight ones would cover these eight that's these ones would cover these eight.\n",
    "\n",
    "It's these eight ones would cover these eight.\n",
    "\n",
    "It's and this part of the fence that's been kicked down.\n",
    "\n",
    "This would be left uncovered.\n",
    "\n",
    "The bits that are covered Make up your network ID\n",
    "\n",
    "and the bits that are left uncovered make up your whole state\n",
    "\n",
    "that the bottom line here this IP address is being divided along the boundary here.\n",
    "\n",
    "And the netbook I.D. is 1 9 2 1 6 8 1 5</p>"
   ]
  },
  {
   "cell_type": "markdown",
   "metadata": {},
   "source": []
  },
  {
   "cell_type": "markdown",
   "metadata": {},
   "source": []
  },
  {
   "cell_type": "markdown",
   "metadata": {},
   "source": []
  },
  {
   "cell_type": "markdown",
   "metadata": {},
   "source": []
  },
  {
   "cell_type": "markdown",
   "metadata": {},
   "source": []
  },
  {
   "cell_type": "markdown",
   "metadata": {},
   "source": []
  }
 ],
 "metadata": {
  "kernelspec": {
   "display_name": "Python 3.10.4 64-bit",
   "language": "python",
   "name": "python3"
  },
  "language_info": {
   "name": "python",
   "version": "3.10.4"
  },
  "orig_nbformat": 4,
  "vscode": {
   "interpreter": {
    "hash": "9045ac875e47dcb748cbb8727819668cc40d80514c47a81983c55e51fb514e38"
   }
  }
 },
 "nbformat": 4,
 "nbformat_minor": 2
}
