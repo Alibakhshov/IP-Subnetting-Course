{
 "cells": [
  {
   "cell_type": "markdown",
   "metadata": {},
   "source": [
    "<h3><strong><a  href=\"https://www.youtube.com/watch?v=s_Ntt6eTn94\">The Structure of an IPv4 Address with a Subnet Mask</a></strong></h3>"
   ]
  },
  {
   "cell_type": "markdown",
   "metadata": {},
   "source": [
    "<p>Let's take a sample IP address of: \n",
    "\n",
    "<b>192.168.1.5</b>\n",
    "\n",
    "Now this  IP address is actually divided into two parts. It's divided into <b>Network ID</b> and <b>Host ID</b>. Now which number is which? Well, we need a second number to do this. We need a subnet mask.\n",
    "\n",
    "Let's say we had a subnet mask of: \n",
    "\n",
    "<b>255.255.255.0</b>\n",
    "\n",
    "Now, we will convert this whole subnet mask into binary. A subnet mask of <b>255.255.255.0</b> in binary is equal to:\n",
    "\n",
    "<b>11111111.11111111.11111111.00000000</b>\n",
    "\n",
    "An IP Address of <b>192.168.1.5</b> in binary is equal to:\n",
    "\n",
    "<b>11000000.10101000.00000001.00000101</b>\n",
    "\n",
    "The first eight ones in a subnet mask will cover the first eight digit of an IP address. Another eight ones will cover the second eight digit of an IP address. The third one does the same. In the fourth one, the eight zero's will not cover, that's why it will be the <b>Host ID</b>. \n",
    "\n",
    "<b>NOTE:</b> The bits that are covered Make up your <b>Network ID</b> and the bits that are left uncovered make up your <b>Host ID.</b>\n",
    "\n",
    "Now the results are:\n",
    "\n",
    "<b>Network ID is: 192.168.1</b>\n",
    "\n",
    " <b>Host ID is: .5</b>\n",
    "</p>\n",
    "\n",
    "<img src=\"../images/4.png\" alt=\"The Structure of an IPv4 Address with a Subnet Mask\">"
   ]
  },
  {
   "cell_type": "markdown",
   "metadata": {},
   "source": [
    "<h3><b>Example:</b></h3>\n",
    "\n",
    "<img src=\"../images/5.png\">"
   ]
  },
  {
   "cell_type": "markdown",
   "metadata": {},
   "source": [
    "<h4><strong>Check yourself: Quiz 3</strong><h4>\n",
    "<h4><strong>Question 1:</strong></h4>\n",
    "\n",
    "\n",
    "<p>Divide <b>150.50.9.6</b> into Network ID and Host ID using a subnet mask of <b>255.255.255.0</b></p>\n",
    "\n",
    "<ol>\n",
    "    <li> Network ID: 150  and Host ID: 50.9.6</li>\n",
    "    <li> Network ID: 150.50  and Host ID: 9.6</li>\n",
    "    <li> Network ID: 150.50.9  and Host ID: 6</li>\n",
    "</ol>\n",
    "\n",
    "<h4><strong>Question 2:</strong></h4>\n",
    "\n",
    "\n",
    "<p>Divide <b>10.25.36.9</b> into Network ID and Host ID using a subnet mask of <b>255.0.0.0</b></p>\n",
    "\n",
    "<ol>\n",
    "    <li> Network ID: 10  and Host ID: 25.36.9</li>\n",
    "    <li> Network ID: 10.25  and Host ID: 36.9</li>\n",
    "    <li> Network ID: 10.25.36  and Host ID: 9</li>\n",
    "</ol>\n",
    "\n",
    "<h4><strong>Question 3:</strong></h4>\n",
    "\n",
    "\n",
    "<p>Divide <b>200.33.66.99</b> into Network ID and Host ID using a subnet mask of <b>255.255.255.0</b></p>\n",
    "\n",
    "<ol>\n",
    "    <li> Network ID: 200  and Host ID: 33.66.99</li>\n",
    "    <li> Network ID: 200.33  and Host ID: 66.99</li>\n",
    "    <li> Network ID: 200.33.66  and Host ID: 99</li>\n",
    "</ol>\n",
    "\n",
    "<a href=\"../Answers.ipynb\"><h4><b>Answers</b></h4></a>"
   ]
  },
  {
   "cell_type": "markdown",
   "metadata": {},
   "source": [
    "<h3><b>Example 2:</b></h3>\n",
    "\n",
    "<p>Let's take a sample IP address of: \n",
    "\n",
    "<b>192.168.9.70</b>\n",
    "\n",
    "Let's say we had a subnet mask of: \n",
    "\n",
    "<b>255.255.255.192</b>\n",
    "\n",
    "Well we know that in the first octet 255 is covering 192 in the IP address and we know that 255 is covering all 8 bits in the second octet, so it's covering 168 in IP address and in the third octet in subnet mask the 255 is covering all the bits in third octet in IP address, so it's covering 9 as well. Accordimgly, 70 in the fourth octet left uncovered. We have to look at 70 binary so whenever you're confronted with a scenario like this the first process to make your life easy is to look at which octets are covered entirely and that would be the first three octets and then in the octet that is being partially covered take the IP address number in there which is 70 in this case.\n",
    "\n",
    "Now, we will convert this the fourth octet of IP address into binary. <b>70</b> in binary is equal to:\n",
    "\n",
    "<b>01000110</b> => <b>70</b>\n",
    "\n",
    "The fourth octet of subnet mask <b>(192)</b> in binary is equal to:\n",
    "\n",
    "<b>11000000</b> => <b>192</b>\n",
    "\n",
    "Now the results are:\n",
    "\n",
    "<b>Network ID is: 192.168.9.64</b>\n",
    "\n",
    " <b>Host ID is:            .6</b>\n",
    "\n",
    " <b>NOTE:</b> if you add the <b>Host ID</b> to the <b>Network ID</b> you should always get back your <b>IP address</b>.\n",
    "\n",
    "If you do that addition and you dont get back your IP address you made a calculation error somewhere.\n",
    "\n",
    "So 64 plus 6 is 70 we get back or original IP address this computation is correct.\n",
    "</p>\n",
    "\n",
    "<img src=\"../images/6.png\" alt=\"The Structure of an IPv4 Address with a Subnet Mask\">"
   ]
  },
  {
   "cell_type": "markdown",
   "metadata": {},
   "source": [
    "<h4><strong>Check yourself: Quiz 4</strong><h4>\n",
    "<h4><strong>Question 1:</strong></h4>\n",
    "\n",
    "\n",
    "<p>Divide <b>10.50.55.6</b> into Network ID and Host ID using a subnet mask of <b>255.224.0.0.</b></b></p>\n",
    "\n",
    "<ol>\n",
    "    <li> Network ID: 10.50  and Host ID: 55.6</li>\n",
    "    <li> Network ID: 10.32  and Host ID: 55.6</li>\n",
    "    <li> Network ID: 10.32  and Host ID: 18.55.6</li>\n",
    "</ol>\n",
    "\n",
    "<h4><strong>Question 2:</strong></h4>\n",
    "\n",
    "\n",
    "<p>Divide <b>172.16.201.19</b> into Network ID and Host ID using a subnet mask of <b>255.255.240.0</b></b></p>\n",
    "\n",
    "<ol>\n",
    "    <li> Network ID: 172.16.201  and Host ID: 19</li>\n",
    "    <li> Network ID: 172.16.192  and Host ID: 9.19</li>\n",
    "    <li> Network ID: 172.16.192  and Host ID: 19</li>\n",
    "</ol>\n",
    "\n",
    "<h4><strong>Question 3:</strong></h4>\n",
    "\n",
    "\n",
    "<p>Divide <b>192.168.5.5</b> into Network ID and Host ID using a subnet mask of <b>255.255.255.252</b></b></p>\n",
    "\n",
    "<ol>\n",
    "    <li> Network ID: 192.168.5.4  and Host ID: 1</li>\n",
    "    <li> Network ID: 192.168.5  and Host ID: 4</li>\n",
    "    <li> Network ID: 192.168.5.2  and Host ID: 3</li>\n",
    "</ol>\n",
    "\n",
    "<a href=\"../Answers.ipynb\"><h4><b>Answers</b></h4></a>"
   ]
  },
  {
   "cell_type": "markdown",
   "metadata": {},
   "source": []
  },
  {
   "cell_type": "markdown",
   "metadata": {},
   "source": []
  }
 ],
 "metadata": {
  "kernelspec": {
   "display_name": "Python 3.10.4 64-bit",
   "language": "python",
   "name": "python3"
  },
  "language_info": {
   "name": "python",
   "version": "3.10.4"
  },
  "orig_nbformat": 4,
  "vscode": {
   "interpreter": {
    "hash": "9045ac875e47dcb748cbb8727819668cc40d80514c47a81983c55e51fb514e38"
   }
  }
 },
 "nbformat": 4,
 "nbformat_minor": 2
}
